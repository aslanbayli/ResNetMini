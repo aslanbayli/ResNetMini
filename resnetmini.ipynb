{
 "cells": [
  {
   "cell_type": "code",
   "execution_count": 1,
   "id": "802be7ad",
   "metadata": {
    "_cell_guid": "b1076dfc-b9ad-4769-8c92-a6c4dae69d19",
    "_uuid": "8f2839f25d086af736a60e9eeb907d3b93b6e0e5",
    "execution": {
     "iopub.execute_input": "2025-03-14T02:03:01.968405Z",
     "iopub.status.busy": "2025-03-14T02:03:01.968112Z",
     "iopub.status.idle": "2025-03-14T02:03:10.795736Z",
     "shell.execute_reply": "2025-03-14T02:03:10.794824Z"
    },
    "papermill": {
     "duration": 8.834797,
     "end_time": "2025-03-14T02:03:10.797428",
     "exception": false,
     "start_time": "2025-03-14T02:03:01.962631",
     "status": "completed"
    },
    "tags": []
   },
   "outputs": [],
   "source": [
    "import torch\n",
    "import torch.nn as nn\n",
    "import torchvision\n",
    "import torchvision.transforms as transforms\n",
    "import pandas as pd\n",
    "import numpy as np\n",
    "import os\n",
    "from PIL import Image\n",
    "from tqdm import tqdm\n",
    "from collections import OrderedDict\n",
    "import pickle\n",
    "from torch.utils.data import Dataset, DataLoader\n",
    "import matplotlib.pyplot as plt\n",
    "import math\n",
    "from sklearn.metrics import precision_score, recall_score, f1_score\n",
    "from torchsummary import summary"
   ]
  },
  {
   "cell_type": "markdown",
   "id": "957f19c7",
   "metadata": {
    "papermill": {
     "duration": 0.003558,
     "end_time": "2025-03-14T02:03:10.805123",
     "exception": false,
     "start_time": "2025-03-14T02:03:10.801565",
     "status": "completed"
    },
    "tags": []
   },
   "source": [
    "# Model Training"
   ]
  },
  {
   "cell_type": "markdown",
   "id": "b041911c",
   "metadata": {
    "papermill": {
     "duration": 0.00342,
     "end_time": "2025-03-14T02:03:10.812187",
     "exception": false,
     "start_time": "2025-03-14T02:03:10.808767",
     "status": "completed"
    },
    "tags": []
   },
   "source": [
    "## Initializing the model"
   ]
  },
  {
   "cell_type": "code",
   "execution_count": 2,
   "id": "1da24d06",
   "metadata": {
    "execution": {
     "iopub.execute_input": "2025-03-14T02:03:10.820432Z",
     "iopub.status.busy": "2025-03-14T02:03:10.820075Z",
     "iopub.status.idle": "2025-03-14T02:03:10.825825Z",
     "shell.execute_reply": "2025-03-14T02:03:10.825209Z"
    },
    "papermill": {
     "duration": 0.011217,
     "end_time": "2025-03-14T02:03:10.827035",
     "exception": false,
     "start_time": "2025-03-14T02:03:10.815818",
     "status": "completed"
    },
    "tags": []
   },
   "outputs": [],
   "source": [
    "class ResidualBlock(nn.Module):\n",
    "    def __init__(self, in_channels, out_channels, stride=1):\n",
    "        super().__init__()\n",
    "        \n",
    "        # First convolutional layer\n",
    "        self.conv1 = nn.Conv2d(in_channels, out_channels, kernel_size=3, stride=stride, padding=1)\n",
    "        self.bn1 = nn.BatchNorm2d(out_channels)\n",
    "        self.gelu = nn.GELU()\n",
    "        self.relu = nn.ReLU()\n",
    "        \n",
    "        # Second convolutional layer\n",
    "        self.conv2 = nn.Conv2d(out_channels, out_channels, kernel_size=3, stride=1, padding=1)\n",
    "        self.bn2 = nn.BatchNorm2d(out_channels)\n",
    "        \n",
    "        # Skip connection\n",
    "        self.skip = nn.Sequential()\n",
    "        if stride != 1 or in_channels != out_channels:\n",
    "            self.skip = nn.Sequential(\n",
    "                nn.Conv2d(in_channels, out_channels, kernel_size=1, stride=stride),\n",
    "                nn.BatchNorm2d(out_channels)\n",
    "            )\n",
    "\n",
    "    def forward(self, x):\n",
    "        skip_connection = self.skip(x)\n",
    "        \n",
    "        # Main path\n",
    "        x = self.conv1(x)\n",
    "        x = self.bn1(x)\n",
    "        x = self.gelu(x)\n",
    "        x = self.conv2(x)\n",
    "        x = self.bn2(x)\n",
    "        \n",
    "        # Skip connection\n",
    "        out = x + skip_connection\n",
    "        \n",
    "        return self.relu(out)\n"
   ]
  },
  {
   "cell_type": "code",
   "execution_count": 3,
   "id": "643f5f80",
   "metadata": {
    "execution": {
     "iopub.execute_input": "2025-03-14T02:03:10.835185Z",
     "iopub.status.busy": "2025-03-14T02:03:10.834971Z",
     "iopub.status.idle": "2025-03-14T02:03:10.841463Z",
     "shell.execute_reply": "2025-03-14T02:03:10.840839Z"
    },
    "papermill": {
     "duration": 0.011793,
     "end_time": "2025-03-14T02:03:10.842503",
     "exception": false,
     "start_time": "2025-03-14T02:03:10.830710",
     "status": "completed"
    },
    "tags": []
   },
   "outputs": [],
   "source": [
    "class ResNetMini(nn.Module):\n",
    "    def __init__(self, num_classes=10):\n",
    "        super().__init__()\n",
    "        \n",
    "        # Initial stem convolution\n",
    "        self.in_channels = 32\n",
    "        self.conv1 = nn.Conv2d(3, self.in_channels, kernel_size=3, stride=1, padding=1)\n",
    "        self.bn1 = nn.BatchNorm2d(self.in_channels)\n",
    "        self.relu = nn.ReLU(inplace=True)\n",
    "        self.gelu = nn.GELU()\n",
    "\n",
    "        # Network stages with increasing channels and downsampling\n",
    "        self.layer1 = self.resnet_layer(48, num_blocks=16, stride=1)  # High-depth initial layer\n",
    "        self.layer2 = self.resnet_layer(64, num_blocks=8, stride=2)   # First downsampling\n",
    "        self.layer3 = self.resnet_layer(152, num_blocks=4, stride=2)  # Channel expansion\n",
    "        self.layer4 = self.resnet_layer(256, num_blocks=2, stride=2)  # Final features\n",
    "\n",
    "        # Classification head\n",
    "        self.avg_pool = nn.AdaptiveAvgPool2d((1, 1))\n",
    "        self.fc = nn.Linear(256, num_classes)\n",
    "\n",
    "    def resnet_layer(self, out_channels, num_blocks, stride):\n",
    "        layers = [ResidualBlock(self.in_channels, out_channels, stride)]\n",
    "        self.in_channels = out_channels\n",
    "        for i in range(1, num_blocks):\n",
    "            layers.append(ResidualBlock(out_channels, out_channels))\n",
    "            \n",
    "        return nn.Sequential(*layers)\n",
    "\n",
    "    def forward(self, x):\n",
    "        x = self.conv1(x)\n",
    "        x = self.bn1(x)\n",
    "        x = self.gelu(x)\n",
    "        \n",
    "        x = self.layer1(x)\n",
    "        x = self.layer2(x)\n",
    "        x = self.layer3(x)\n",
    "        x = self.layer4(x)\n",
    "        \n",
    "\n",
    "        x = self.avg_pool(x)\n",
    "        x = torch.flatten(x, start_dim=1)\n",
    "        out = self.fc(x)\n",
    "        \n",
    "        return out\n"
   ]
  },
  {
   "cell_type": "code",
   "execution_count": 4,
   "id": "210e03b3",
   "metadata": {
    "execution": {
     "iopub.execute_input": "2025-03-14T02:03:10.850400Z",
     "iopub.status.busy": "2025-03-14T02:03:10.850206Z",
     "iopub.status.idle": "2025-03-14T02:03:11.980942Z",
     "shell.execute_reply": "2025-03-14T02:03:11.979982Z"
    },
    "papermill": {
     "duration": 1.136984,
     "end_time": "2025-03-14T02:03:11.983055",
     "exception": false,
     "start_time": "2025-03-14T02:03:10.846071",
     "status": "completed"
    },
    "scrolled": true,
    "tags": []
   },
   "outputs": [
    {
     "name": "stdout",
     "output_type": "stream",
     "text": [
      "----------------------------------------------------------------\n",
      "        Layer (type)               Output Shape         Param #\n",
      "================================================================\n",
      "            Conv2d-1           [-1, 32, 32, 32]             896\n",
      "       BatchNorm2d-2           [-1, 32, 32, 32]              64\n",
      "              GELU-3           [-1, 32, 32, 32]               0\n",
      "            Conv2d-4           [-1, 48, 32, 32]           1,584\n",
      "       BatchNorm2d-5           [-1, 48, 32, 32]              96\n",
      "            Conv2d-6           [-1, 48, 32, 32]          13,872\n",
      "       BatchNorm2d-7           [-1, 48, 32, 32]              96\n",
      "              GELU-8           [-1, 48, 32, 32]               0\n",
      "            Conv2d-9           [-1, 48, 32, 32]          20,784\n",
      "      BatchNorm2d-10           [-1, 48, 32, 32]              96\n",
      "             ReLU-11           [-1, 48, 32, 32]               0\n",
      "    ResidualBlock-12           [-1, 48, 32, 32]               0\n",
      "           Conv2d-13           [-1, 48, 32, 32]          20,784\n",
      "      BatchNorm2d-14           [-1, 48, 32, 32]              96\n",
      "             GELU-15           [-1, 48, 32, 32]               0\n",
      "           Conv2d-16           [-1, 48, 32, 32]          20,784\n",
      "      BatchNorm2d-17           [-1, 48, 32, 32]              96\n",
      "             ReLU-18           [-1, 48, 32, 32]               0\n",
      "    ResidualBlock-19           [-1, 48, 32, 32]               0\n",
      "           Conv2d-20           [-1, 48, 32, 32]          20,784\n",
      "      BatchNorm2d-21           [-1, 48, 32, 32]              96\n",
      "             GELU-22           [-1, 48, 32, 32]               0\n",
      "           Conv2d-23           [-1, 48, 32, 32]          20,784\n",
      "      BatchNorm2d-24           [-1, 48, 32, 32]              96\n",
      "             ReLU-25           [-1, 48, 32, 32]               0\n",
      "    ResidualBlock-26           [-1, 48, 32, 32]               0\n",
      "           Conv2d-27           [-1, 48, 32, 32]          20,784\n",
      "      BatchNorm2d-28           [-1, 48, 32, 32]              96\n",
      "             GELU-29           [-1, 48, 32, 32]               0\n",
      "           Conv2d-30           [-1, 48, 32, 32]          20,784\n",
      "      BatchNorm2d-31           [-1, 48, 32, 32]              96\n",
      "             ReLU-32           [-1, 48, 32, 32]               0\n",
      "    ResidualBlock-33           [-1, 48, 32, 32]               0\n",
      "           Conv2d-34           [-1, 48, 32, 32]          20,784\n",
      "      BatchNorm2d-35           [-1, 48, 32, 32]              96\n",
      "             GELU-36           [-1, 48, 32, 32]               0\n",
      "           Conv2d-37           [-1, 48, 32, 32]          20,784\n",
      "      BatchNorm2d-38           [-1, 48, 32, 32]              96\n",
      "             ReLU-39           [-1, 48, 32, 32]               0\n",
      "    ResidualBlock-40           [-1, 48, 32, 32]               0\n",
      "           Conv2d-41           [-1, 48, 32, 32]          20,784\n",
      "      BatchNorm2d-42           [-1, 48, 32, 32]              96\n",
      "             GELU-43           [-1, 48, 32, 32]               0\n",
      "           Conv2d-44           [-1, 48, 32, 32]          20,784\n",
      "      BatchNorm2d-45           [-1, 48, 32, 32]              96\n",
      "             ReLU-46           [-1, 48, 32, 32]               0\n",
      "    ResidualBlock-47           [-1, 48, 32, 32]               0\n",
      "           Conv2d-48           [-1, 48, 32, 32]          20,784\n",
      "      BatchNorm2d-49           [-1, 48, 32, 32]              96\n",
      "             GELU-50           [-1, 48, 32, 32]               0\n",
      "           Conv2d-51           [-1, 48, 32, 32]          20,784\n",
      "      BatchNorm2d-52           [-1, 48, 32, 32]              96\n",
      "             ReLU-53           [-1, 48, 32, 32]               0\n",
      "    ResidualBlock-54           [-1, 48, 32, 32]               0\n",
      "           Conv2d-55           [-1, 48, 32, 32]          20,784\n",
      "      BatchNorm2d-56           [-1, 48, 32, 32]              96\n",
      "             GELU-57           [-1, 48, 32, 32]               0\n",
      "           Conv2d-58           [-1, 48, 32, 32]          20,784\n",
      "      BatchNorm2d-59           [-1, 48, 32, 32]              96\n",
      "             ReLU-60           [-1, 48, 32, 32]               0\n",
      "    ResidualBlock-61           [-1, 48, 32, 32]               0\n",
      "           Conv2d-62           [-1, 48, 32, 32]          20,784\n",
      "      BatchNorm2d-63           [-1, 48, 32, 32]              96\n",
      "             GELU-64           [-1, 48, 32, 32]               0\n",
      "           Conv2d-65           [-1, 48, 32, 32]          20,784\n",
      "      BatchNorm2d-66           [-1, 48, 32, 32]              96\n",
      "             ReLU-67           [-1, 48, 32, 32]               0\n",
      "    ResidualBlock-68           [-1, 48, 32, 32]               0\n",
      "           Conv2d-69           [-1, 48, 32, 32]          20,784\n",
      "      BatchNorm2d-70           [-1, 48, 32, 32]              96\n",
      "             GELU-71           [-1, 48, 32, 32]               0\n",
      "           Conv2d-72           [-1, 48, 32, 32]          20,784\n",
      "      BatchNorm2d-73           [-1, 48, 32, 32]              96\n",
      "             ReLU-74           [-1, 48, 32, 32]               0\n",
      "    ResidualBlock-75           [-1, 48, 32, 32]               0\n",
      "           Conv2d-76           [-1, 48, 32, 32]          20,784\n",
      "      BatchNorm2d-77           [-1, 48, 32, 32]              96\n",
      "             GELU-78           [-1, 48, 32, 32]               0\n",
      "           Conv2d-79           [-1, 48, 32, 32]          20,784\n",
      "      BatchNorm2d-80           [-1, 48, 32, 32]              96\n",
      "             ReLU-81           [-1, 48, 32, 32]               0\n",
      "    ResidualBlock-82           [-1, 48, 32, 32]               0\n",
      "           Conv2d-83           [-1, 48, 32, 32]          20,784\n",
      "      BatchNorm2d-84           [-1, 48, 32, 32]              96\n",
      "             GELU-85           [-1, 48, 32, 32]               0\n",
      "           Conv2d-86           [-1, 48, 32, 32]          20,784\n",
      "      BatchNorm2d-87           [-1, 48, 32, 32]              96\n",
      "             ReLU-88           [-1, 48, 32, 32]               0\n",
      "    ResidualBlock-89           [-1, 48, 32, 32]               0\n",
      "           Conv2d-90           [-1, 48, 32, 32]          20,784\n",
      "      BatchNorm2d-91           [-1, 48, 32, 32]              96\n",
      "             GELU-92           [-1, 48, 32, 32]               0\n",
      "           Conv2d-93           [-1, 48, 32, 32]          20,784\n",
      "      BatchNorm2d-94           [-1, 48, 32, 32]              96\n",
      "             ReLU-95           [-1, 48, 32, 32]               0\n",
      "    ResidualBlock-96           [-1, 48, 32, 32]               0\n",
      "           Conv2d-97           [-1, 48, 32, 32]          20,784\n",
      "      BatchNorm2d-98           [-1, 48, 32, 32]              96\n",
      "             GELU-99           [-1, 48, 32, 32]               0\n",
      "          Conv2d-100           [-1, 48, 32, 32]          20,784\n",
      "     BatchNorm2d-101           [-1, 48, 32, 32]              96\n",
      "            ReLU-102           [-1, 48, 32, 32]               0\n",
      "   ResidualBlock-103           [-1, 48, 32, 32]               0\n",
      "          Conv2d-104           [-1, 48, 32, 32]          20,784\n",
      "     BatchNorm2d-105           [-1, 48, 32, 32]              96\n",
      "            GELU-106           [-1, 48, 32, 32]               0\n",
      "          Conv2d-107           [-1, 48, 32, 32]          20,784\n",
      "     BatchNorm2d-108           [-1, 48, 32, 32]              96\n",
      "            ReLU-109           [-1, 48, 32, 32]               0\n",
      "   ResidualBlock-110           [-1, 48, 32, 32]               0\n",
      "          Conv2d-111           [-1, 48, 32, 32]          20,784\n",
      "     BatchNorm2d-112           [-1, 48, 32, 32]              96\n",
      "            GELU-113           [-1, 48, 32, 32]               0\n",
      "          Conv2d-114           [-1, 48, 32, 32]          20,784\n",
      "     BatchNorm2d-115           [-1, 48, 32, 32]              96\n",
      "            ReLU-116           [-1, 48, 32, 32]               0\n",
      "   ResidualBlock-117           [-1, 48, 32, 32]               0\n",
      "          Conv2d-118           [-1, 64, 16, 16]           3,136\n",
      "     BatchNorm2d-119           [-1, 64, 16, 16]             128\n",
      "          Conv2d-120           [-1, 64, 16, 16]          27,712\n",
      "     BatchNorm2d-121           [-1, 64, 16, 16]             128\n",
      "            GELU-122           [-1, 64, 16, 16]               0\n",
      "          Conv2d-123           [-1, 64, 16, 16]          36,928\n",
      "     BatchNorm2d-124           [-1, 64, 16, 16]             128\n",
      "            ReLU-125           [-1, 64, 16, 16]               0\n",
      "   ResidualBlock-126           [-1, 64, 16, 16]               0\n",
      "          Conv2d-127           [-1, 64, 16, 16]          36,928\n",
      "     BatchNorm2d-128           [-1, 64, 16, 16]             128\n",
      "            GELU-129           [-1, 64, 16, 16]               0\n",
      "          Conv2d-130           [-1, 64, 16, 16]          36,928\n",
      "     BatchNorm2d-131           [-1, 64, 16, 16]             128\n",
      "            ReLU-132           [-1, 64, 16, 16]               0\n",
      "   ResidualBlock-133           [-1, 64, 16, 16]               0\n",
      "          Conv2d-134           [-1, 64, 16, 16]          36,928\n",
      "     BatchNorm2d-135           [-1, 64, 16, 16]             128\n",
      "            GELU-136           [-1, 64, 16, 16]               0\n",
      "          Conv2d-137           [-1, 64, 16, 16]          36,928\n",
      "     BatchNorm2d-138           [-1, 64, 16, 16]             128\n",
      "            ReLU-139           [-1, 64, 16, 16]               0\n",
      "   ResidualBlock-140           [-1, 64, 16, 16]               0\n",
      "          Conv2d-141           [-1, 64, 16, 16]          36,928\n",
      "     BatchNorm2d-142           [-1, 64, 16, 16]             128\n",
      "            GELU-143           [-1, 64, 16, 16]               0\n",
      "          Conv2d-144           [-1, 64, 16, 16]          36,928\n",
      "     BatchNorm2d-145           [-1, 64, 16, 16]             128\n",
      "            ReLU-146           [-1, 64, 16, 16]               0\n",
      "   ResidualBlock-147           [-1, 64, 16, 16]               0\n",
      "          Conv2d-148           [-1, 64, 16, 16]          36,928\n",
      "     BatchNorm2d-149           [-1, 64, 16, 16]             128\n",
      "            GELU-150           [-1, 64, 16, 16]               0\n",
      "          Conv2d-151           [-1, 64, 16, 16]          36,928\n",
      "     BatchNorm2d-152           [-1, 64, 16, 16]             128\n",
      "            ReLU-153           [-1, 64, 16, 16]               0\n",
      "   ResidualBlock-154           [-1, 64, 16, 16]               0\n",
      "          Conv2d-155           [-1, 64, 16, 16]          36,928\n",
      "     BatchNorm2d-156           [-1, 64, 16, 16]             128\n",
      "            GELU-157           [-1, 64, 16, 16]               0\n",
      "          Conv2d-158           [-1, 64, 16, 16]          36,928\n",
      "     BatchNorm2d-159           [-1, 64, 16, 16]             128\n",
      "            ReLU-160           [-1, 64, 16, 16]               0\n",
      "   ResidualBlock-161           [-1, 64, 16, 16]               0\n",
      "          Conv2d-162           [-1, 64, 16, 16]          36,928\n",
      "     BatchNorm2d-163           [-1, 64, 16, 16]             128\n",
      "            GELU-164           [-1, 64, 16, 16]               0\n",
      "          Conv2d-165           [-1, 64, 16, 16]          36,928\n",
      "     BatchNorm2d-166           [-1, 64, 16, 16]             128\n",
      "            ReLU-167           [-1, 64, 16, 16]               0\n",
      "   ResidualBlock-168           [-1, 64, 16, 16]               0\n",
      "          Conv2d-169           [-1, 64, 16, 16]          36,928\n",
      "     BatchNorm2d-170           [-1, 64, 16, 16]             128\n",
      "            GELU-171           [-1, 64, 16, 16]               0\n",
      "          Conv2d-172           [-1, 64, 16, 16]          36,928\n",
      "     BatchNorm2d-173           [-1, 64, 16, 16]             128\n",
      "            ReLU-174           [-1, 64, 16, 16]               0\n",
      "   ResidualBlock-175           [-1, 64, 16, 16]               0\n",
      "          Conv2d-176            [-1, 152, 8, 8]           9,880\n",
      "     BatchNorm2d-177            [-1, 152, 8, 8]             304\n",
      "          Conv2d-178            [-1, 152, 8, 8]          87,704\n",
      "     BatchNorm2d-179            [-1, 152, 8, 8]             304\n",
      "            GELU-180            [-1, 152, 8, 8]               0\n",
      "          Conv2d-181            [-1, 152, 8, 8]         208,088\n",
      "     BatchNorm2d-182            [-1, 152, 8, 8]             304\n",
      "            ReLU-183            [-1, 152, 8, 8]               0\n",
      "   ResidualBlock-184            [-1, 152, 8, 8]               0\n",
      "          Conv2d-185            [-1, 152, 8, 8]         208,088\n",
      "     BatchNorm2d-186            [-1, 152, 8, 8]             304\n",
      "            GELU-187            [-1, 152, 8, 8]               0\n",
      "          Conv2d-188            [-1, 152, 8, 8]         208,088\n",
      "     BatchNorm2d-189            [-1, 152, 8, 8]             304\n",
      "            ReLU-190            [-1, 152, 8, 8]               0\n",
      "   ResidualBlock-191            [-1, 152, 8, 8]               0\n",
      "          Conv2d-192            [-1, 152, 8, 8]         208,088\n",
      "     BatchNorm2d-193            [-1, 152, 8, 8]             304\n",
      "            GELU-194            [-1, 152, 8, 8]               0\n",
      "          Conv2d-195            [-1, 152, 8, 8]         208,088\n",
      "     BatchNorm2d-196            [-1, 152, 8, 8]             304\n",
      "            ReLU-197            [-1, 152, 8, 8]               0\n",
      "   ResidualBlock-198            [-1, 152, 8, 8]               0\n",
      "          Conv2d-199            [-1, 152, 8, 8]         208,088\n",
      "     BatchNorm2d-200            [-1, 152, 8, 8]             304\n",
      "            GELU-201            [-1, 152, 8, 8]               0\n",
      "          Conv2d-202            [-1, 152, 8, 8]         208,088\n",
      "     BatchNorm2d-203            [-1, 152, 8, 8]             304\n",
      "            ReLU-204            [-1, 152, 8, 8]               0\n",
      "   ResidualBlock-205            [-1, 152, 8, 8]               0\n",
      "          Conv2d-206            [-1, 256, 4, 4]          39,168\n",
      "     BatchNorm2d-207            [-1, 256, 4, 4]             512\n",
      "          Conv2d-208            [-1, 256, 4, 4]         350,464\n",
      "     BatchNorm2d-209            [-1, 256, 4, 4]             512\n",
      "            GELU-210            [-1, 256, 4, 4]               0\n",
      "          Conv2d-211            [-1, 256, 4, 4]         590,080\n",
      "     BatchNorm2d-212            [-1, 256, 4, 4]             512\n",
      "            ReLU-213            [-1, 256, 4, 4]               0\n",
      "   ResidualBlock-214            [-1, 256, 4, 4]               0\n",
      "          Conv2d-215            [-1, 256, 4, 4]         590,080\n",
      "     BatchNorm2d-216            [-1, 256, 4, 4]             512\n",
      "            GELU-217            [-1, 256, 4, 4]               0\n",
      "          Conv2d-218            [-1, 256, 4, 4]         590,080\n",
      "     BatchNorm2d-219            [-1, 256, 4, 4]             512\n",
      "            ReLU-220            [-1, 256, 4, 4]               0\n",
      "   ResidualBlock-221            [-1, 256, 4, 4]               0\n",
      "AdaptiveAvgPool2d-222            [-1, 256, 1, 1]               0\n",
      "          Linear-223                   [-1, 10]           2,570\n",
      "================================================================\n",
      "Total params: 4,972,770\n",
      "Trainable params: 4,972,770\n",
      "Non-trainable params: 0\n",
      "----------------------------------------------------------------\n",
      "Input size (MB): 0.01\n",
      "Forward/backward pass size (MB): 53.48\n",
      "Params size (MB): 18.97\n",
      "Estimated Total Size (MB): 72.46\n",
      "----------------------------------------------------------------\n"
     ]
    }
   ],
   "source": [
    "device = torch.device(\"cuda\" if torch.cuda.is_available() else \"cpu\")\n",
    "model = ResNetMini()\n",
    "model.to(device)\n",
    "summary(model,input_size = (3,32,32)) # Number of parameters"
   ]
  },
  {
   "cell_type": "code",
   "execution_count": 5,
   "id": "27df8a33",
   "metadata": {
    "execution": {
     "iopub.execute_input": "2025-03-14T02:03:11.992672Z",
     "iopub.status.busy": "2025-03-14T02:03:11.992424Z",
     "iopub.status.idle": "2025-03-14T02:03:11.997239Z",
     "shell.execute_reply": "2025-03-14T02:03:11.996418Z"
    },
    "papermill": {
     "duration": 0.011157,
     "end_time": "2025-03-14T02:03:11.998888",
     "exception": false,
     "start_time": "2025-03-14T02:03:11.987731",
     "status": "completed"
    },
    "tags": []
   },
   "outputs": [],
   "source": [
    "transform_train = transforms.Compose([\n",
    "    transforms.RandomCrop(32, padding=4, padding_mode='reflect'),\n",
    "    transforms.RandomHorizontalFlip(),\n",
    "    transforms.RandomRotation(10),\n",
    "    transforms.RandomAffine(0, shear=10, scale=(0.8,1.2)),\n",
    "    transforms.ToTensor(),\n",
    "    transforms.Normalize((0.4914, 0.4822, 0.4465), \n",
    "                         (0.2470, 0.2435, 0.2616))\n",
    "])\n",
    "\n",
    "transform_test = transforms.Compose([\n",
    "    transforms.ToTensor(),\n",
    "    transforms.Normalize((0.4914, 0.4822, 0.4465), \n",
    "                         (0.2470, 0.2435, 0.2616))\n",
    "])"
   ]
  },
  {
   "cell_type": "code",
   "execution_count": 6,
   "id": "5f7de8af",
   "metadata": {
    "execution": {
     "iopub.execute_input": "2025-03-14T02:03:12.013805Z",
     "iopub.status.busy": "2025-03-14T02:03:12.013575Z",
     "iopub.status.idle": "2025-03-14T02:03:20.457313Z",
     "shell.execute_reply": "2025-03-14T02:03:20.456382Z"
    },
    "papermill": {
     "duration": 8.453126,
     "end_time": "2025-03-14T02:03:20.459014",
     "exception": false,
     "start_time": "2025-03-14T02:03:12.005888",
     "status": "completed"
    },
    "tags": []
   },
   "outputs": [
    {
     "name": "stdout",
     "output_type": "stream",
     "text": [
      "Downloading https://www.cs.toronto.edu/~kriz/cifar-10-python.tar.gz to ./data/cifar-10-python.tar.gz\n"
     ]
    },
    {
     "name": "stderr",
     "output_type": "stream",
     "text": [
      "100%|██████████| 170M/170M [00:04<00:00, 34.8MB/s]\n"
     ]
    },
    {
     "name": "stdout",
     "output_type": "stream",
     "text": [
      "Extracting ./data/cifar-10-python.tar.gz to ./data\n",
      "Files already downloaded and verified\n"
     ]
    }
   ],
   "source": [
    "batch_size = 64\n",
    "\n",
    "train_dataset = torchvision.datasets.CIFAR10(root='./data', train=True,download=True, transform=transform_train)\n",
    "train_loader = torch.utils.data.DataLoader(train_dataset, batch_size=batch_size,shuffle=True, num_workers=2)\n",
    "test_dataset = torchvision.datasets.CIFAR10(root='./data', train=False,download=True, transform=transform_test)\n",
    "test_loader = torch.utils.data.DataLoader(test_dataset, batch_size=batch_size,shuffle=False, num_workers=2)\n",
    "\n",
    "device = torch.device(\"cuda\" if torch.cuda.is_available() else \"cpu\")"
   ]
  },
  {
   "cell_type": "code",
   "execution_count": 7,
   "id": "650d7957",
   "metadata": {
    "execution": {
     "iopub.execute_input": "2025-03-14T02:03:20.472847Z",
     "iopub.status.busy": "2025-03-14T02:03:20.472572Z",
     "iopub.status.idle": "2025-03-14T03:19:25.093006Z",
     "shell.execute_reply": "2025-03-14T03:19:25.091803Z"
    },
    "papermill": {
     "duration": 4564.62883,
     "end_time": "2025-03-14T03:19:25.094542",
     "exception": false,
     "start_time": "2025-03-14T02:03:20.465712",
     "status": "completed"
    },
    "tags": []
   },
   "outputs": [
    {
     "name": "stderr",
     "output_type": "stream",
     "text": [
      "Epoch 1/60 [Training]: 100%|██████████| 782/782 [01:12<00:00, 10.77it/s, accuracy=36.65%, loss=1.6905]\n",
      "Epoch 1/60 [Testing]: 100%|██████████| 157/157 [00:04<00:00, 39.11it/s, accuracy=49.16%, loss=1.3537]\n"
     ]
    },
    {
     "name": "stdout",
     "output_type": "stream",
     "text": [
      "\n",
      "Epoch [1/60] Summary:\n",
      "Train Loss: 1.6905, Train Acc: 36.65%\n",
      "Test Loss: 1.3537, Test Acc: 49.16%\n",
      "Train Precision: 0.3607, Train Recall: 0.3665, Train F1: 0.3611\n",
      "Test Precision: 0.5243, Test Recall: 0.4916, Test F1: 0.4894\n",
      "\n"
     ]
    },
    {
     "name": "stderr",
     "output_type": "stream",
     "text": [
      "Epoch 2/60 [Training]: 100%|██████████| 782/782 [01:11<00:00, 10.86it/s, accuracy=52.01%, loss=1.3119]\n",
      "Epoch 2/60 [Testing]: 100%|██████████| 157/157 [00:04<00:00, 38.60it/s, accuracy=59.87%, loss=1.1116]\n"
     ]
    },
    {
     "name": "stdout",
     "output_type": "stream",
     "text": [
      "\n",
      "Epoch [2/60] Summary:\n",
      "Train Loss: 1.3119, Train Acc: 52.01%\n",
      "Test Loss: 1.1116, Test Acc: 59.87%\n",
      "Train Precision: 0.5151, Train Recall: 0.5201, Train F1: 0.5166\n",
      "Test Precision: 0.6147, Test Recall: 0.5987, Test F1: 0.5953\n",
      "\n"
     ]
    },
    {
     "name": "stderr",
     "output_type": "stream",
     "text": [
      "Epoch 3/60 [Training]: 100%|██████████| 782/782 [01:12<00:00, 10.85it/s, accuracy=60.34%, loss=1.1144]\n",
      "Epoch 3/60 [Testing]: 100%|██████████| 157/157 [00:03<00:00, 39.28it/s, accuracy=65.59%, loss=0.9914]\n"
     ]
    },
    {
     "name": "stdout",
     "output_type": "stream",
     "text": [
      "\n",
      "Epoch [3/60] Summary:\n",
      "Train Loss: 1.1144, Train Acc: 60.34%\n",
      "Test Loss: 0.9914, Test Acc: 65.59%\n",
      "Train Precision: 0.5997, Train Recall: 0.6034, Train F1: 0.6012\n",
      "Test Precision: 0.6798, Test Recall: 0.6559, Test F1: 0.6526\n",
      "\n"
     ]
    },
    {
     "name": "stderr",
     "output_type": "stream",
     "text": [
      "Epoch 4/60 [Training]: 100%|██████████| 782/782 [01:12<00:00, 10.84it/s, accuracy=64.80%, loss=0.9883]\n",
      "Epoch 4/60 [Testing]: 100%|██████████| 157/157 [00:04<00:00, 38.94it/s, accuracy=66.56%, loss=0.9562]\n"
     ]
    },
    {
     "name": "stdout",
     "output_type": "stream",
     "text": [
      "\n",
      "Epoch [4/60] Summary:\n",
      "Train Loss: 0.9883, Train Acc: 64.80%\n",
      "Test Loss: 0.9562, Test Acc: 66.56%\n",
      "Train Precision: 0.6461, Train Recall: 0.6480, Train F1: 0.6469\n",
      "Test Precision: 0.7190, Test Recall: 0.6656, Test F1: 0.6652\n",
      "\n"
     ]
    },
    {
     "name": "stderr",
     "output_type": "stream",
     "text": [
      "Epoch 5/60 [Training]: 100%|██████████| 782/782 [01:12<00:00, 10.84it/s, accuracy=68.82%, loss=0.8875]\n",
      "Epoch 5/60 [Testing]: 100%|██████████| 157/157 [00:04<00:00, 39.06it/s, accuracy=71.17%, loss=0.8372]\n"
     ]
    },
    {
     "name": "stdout",
     "output_type": "stream",
     "text": [
      "\n",
      "Epoch [5/60] Summary:\n",
      "Train Loss: 0.8875, Train Acc: 68.82%\n",
      "Test Loss: 0.8372, Test Acc: 71.17%\n",
      "Train Precision: 0.6868, Train Recall: 0.6882, Train F1: 0.6874\n",
      "Test Precision: 0.7622, Test Recall: 0.7117, Test F1: 0.7156\n",
      "\n"
     ]
    },
    {
     "name": "stderr",
     "output_type": "stream",
     "text": [
      "Epoch 6/60 [Training]: 100%|██████████| 782/782 [01:12<00:00, 10.84it/s, accuracy=71.40%, loss=0.8100]\n",
      "Epoch 6/60 [Testing]: 100%|██████████| 157/157 [00:04<00:00, 38.33it/s, accuracy=77.59%, loss=0.6569]\n"
     ]
    },
    {
     "name": "stdout",
     "output_type": "stream",
     "text": [
      "\n",
      "Epoch [6/60] Summary:\n",
      "Train Loss: 0.8100, Train Acc: 71.40%\n",
      "Test Loss: 0.6569, Test Acc: 77.59%\n",
      "Train Precision: 0.7128, Train Recall: 0.7140, Train F1: 0.7133\n",
      "Test Precision: 0.7761, Test Recall: 0.7759, Test F1: 0.7731\n",
      "\n"
     ]
    },
    {
     "name": "stderr",
     "output_type": "stream",
     "text": [
      "Epoch 7/60 [Training]: 100%|██████████| 782/782 [01:12<00:00, 10.82it/s, accuracy=74.00%, loss=0.7428]\n",
      "Epoch 7/60 [Testing]: 100%|██████████| 157/157 [00:04<00:00, 38.95it/s, accuracy=79.97%, loss=0.5792]\n"
     ]
    },
    {
     "name": "stdout",
     "output_type": "stream",
     "text": [
      "\n",
      "Epoch [7/60] Summary:\n",
      "Train Loss: 0.7428, Train Acc: 74.00%\n",
      "Test Loss: 0.5792, Test Acc: 79.97%\n",
      "Train Precision: 0.7393, Train Recall: 0.7400, Train F1: 0.7396\n",
      "Test Precision: 0.8015, Test Recall: 0.7997, Test F1: 0.7973\n",
      "\n"
     ]
    },
    {
     "name": "stderr",
     "output_type": "stream",
     "text": [
      "Epoch 8/60 [Training]: 100%|██████████| 782/782 [01:12<00:00, 10.84it/s, accuracy=76.01%, loss=0.6855]\n",
      "Epoch 8/60 [Testing]: 100%|██████████| 157/157 [00:04<00:00, 39.00it/s, accuracy=81.98%, loss=0.5264]\n"
     ]
    },
    {
     "name": "stdout",
     "output_type": "stream",
     "text": [
      "\n",
      "Epoch [8/60] Summary:\n",
      "Train Loss: 0.6855, Train Acc: 76.01%\n",
      "Test Loss: 0.5264, Test Acc: 81.98%\n",
      "Train Precision: 0.7593, Train Recall: 0.7601, Train F1: 0.7596\n",
      "Test Precision: 0.8251, Test Recall: 0.8198, Test F1: 0.8198\n",
      "\n"
     ]
    },
    {
     "name": "stderr",
     "output_type": "stream",
     "text": [
      "Epoch 9/60 [Training]: 100%|██████████| 782/782 [01:12<00:00, 10.85it/s, accuracy=77.70%, loss=0.6371]\n",
      "Epoch 9/60 [Testing]: 100%|██████████| 157/157 [00:04<00:00, 38.89it/s, accuracy=82.95%, loss=0.5151]\n"
     ]
    },
    {
     "name": "stdout",
     "output_type": "stream",
     "text": [
      "\n",
      "Epoch [9/60] Summary:\n",
      "Train Loss: 0.6371, Train Acc: 77.70%\n",
      "Test Loss: 0.5151, Test Acc: 82.95%\n",
      "Train Precision: 0.7765, Train Recall: 0.7770, Train F1: 0.7767\n",
      "Test Precision: 0.8323, Test Recall: 0.8295, Test F1: 0.8286\n",
      "\n"
     ]
    },
    {
     "name": "stderr",
     "output_type": "stream",
     "text": [
      "Epoch 10/60 [Training]: 100%|██████████| 782/782 [01:12<00:00, 10.85it/s, accuracy=79.17%, loss=0.5996]\n",
      "Epoch 10/60 [Testing]: 100%|██████████| 157/157 [00:04<00:00, 39.19it/s, accuracy=81.83%, loss=0.5137]\n"
     ]
    },
    {
     "name": "stdout",
     "output_type": "stream",
     "text": [
      "\n",
      "Epoch [10/60] Summary:\n",
      "Train Loss: 0.5996, Train Acc: 79.17%\n",
      "Test Loss: 0.5137, Test Acc: 81.83%\n",
      "Train Precision: 0.7910, Train Recall: 0.7917, Train F1: 0.7912\n",
      "Test Precision: 0.8309, Test Recall: 0.8183, Test F1: 0.8196\n",
      "\n"
     ]
    },
    {
     "name": "stderr",
     "output_type": "stream",
     "text": [
      "Epoch 11/60 [Training]: 100%|██████████| 782/782 [01:11<00:00, 10.86it/s, accuracy=80.37%, loss=0.5643]\n",
      "Epoch 11/60 [Testing]: 100%|██████████| 157/157 [00:03<00:00, 39.28it/s, accuracy=83.68%, loss=0.4818]\n"
     ]
    },
    {
     "name": "stdout",
     "output_type": "stream",
     "text": [
      "\n",
      "Epoch [11/60] Summary:\n",
      "Train Loss: 0.5643, Train Acc: 80.37%\n",
      "Test Loss: 0.4818, Test Acc: 83.68%\n",
      "Train Precision: 0.8032, Train Recall: 0.8037, Train F1: 0.8034\n",
      "Test Precision: 0.8434, Test Recall: 0.8368, Test F1: 0.8376\n",
      "\n"
     ]
    },
    {
     "name": "stderr",
     "output_type": "stream",
     "text": [
      "Epoch 12/60 [Training]: 100%|██████████| 782/782 [01:12<00:00, 10.85it/s, accuracy=81.12%, loss=0.5389]\n",
      "Epoch 12/60 [Testing]: 100%|██████████| 157/157 [00:04<00:00, 38.19it/s, accuracy=83.47%, loss=0.4703]\n"
     ]
    },
    {
     "name": "stdout",
     "output_type": "stream",
     "text": [
      "\n",
      "Epoch [12/60] Summary:\n",
      "Train Loss: 0.5389, Train Acc: 81.12%\n",
      "Test Loss: 0.4703, Test Acc: 83.47%\n",
      "Train Precision: 0.8110, Train Recall: 0.8112, Train F1: 0.8111\n",
      "Test Precision: 0.8445, Test Recall: 0.8347, Test F1: 0.8336\n",
      "\n"
     ]
    },
    {
     "name": "stderr",
     "output_type": "stream",
     "text": [
      "Epoch 13/60 [Training]: 100%|██████████| 782/782 [01:12<00:00, 10.81it/s, accuracy=82.03%, loss=0.5128]\n",
      "Epoch 13/60 [Testing]: 100%|██████████| 157/157 [00:04<00:00, 39.04it/s, accuracy=86.01%, loss=0.4028]\n"
     ]
    },
    {
     "name": "stdout",
     "output_type": "stream",
     "text": [
      "\n",
      "Epoch [13/60] Summary:\n",
      "Train Loss: 0.5128, Train Acc: 82.03%\n",
      "Test Loss: 0.4028, Test Acc: 86.01%\n",
      "Train Precision: 0.8200, Train Recall: 0.8203, Train F1: 0.8201\n",
      "Test Precision: 0.8651, Test Recall: 0.8601, Test F1: 0.8593\n",
      "\n"
     ]
    },
    {
     "name": "stderr",
     "output_type": "stream",
     "text": [
      "Epoch 14/60 [Training]: 100%|██████████| 782/782 [01:12<00:00, 10.82it/s, accuracy=82.97%, loss=0.4899]\n",
      "Epoch 14/60 [Testing]: 100%|██████████| 157/157 [00:04<00:00, 38.82it/s, accuracy=86.35%, loss=0.3925]\n"
     ]
    },
    {
     "name": "stdout",
     "output_type": "stream",
     "text": [
      "\n",
      "Epoch [14/60] Summary:\n",
      "Train Loss: 0.4899, Train Acc: 82.97%\n",
      "Test Loss: 0.3925, Test Acc: 86.35%\n",
      "Train Precision: 0.8294, Train Recall: 0.8297, Train F1: 0.8295\n",
      "Test Precision: 0.8643, Test Recall: 0.8635, Test F1: 0.8628\n",
      "\n"
     ]
    },
    {
     "name": "stderr",
     "output_type": "stream",
     "text": [
      "Epoch 15/60 [Training]: 100%|██████████| 782/782 [01:12<00:00, 10.86it/s, accuracy=83.59%, loss=0.4708]\n",
      "Epoch 15/60 [Testing]: 100%|██████████| 157/157 [00:03<00:00, 39.29it/s, accuracy=88.07%, loss=0.3509]\n"
     ]
    },
    {
     "name": "stdout",
     "output_type": "stream",
     "text": [
      "\n",
      "Epoch [15/60] Summary:\n",
      "Train Loss: 0.4708, Train Acc: 83.59%\n",
      "Test Loss: 0.3509, Test Acc: 88.07%\n",
      "Train Precision: 0.8356, Train Recall: 0.8359, Train F1: 0.8357\n",
      "Test Precision: 0.8842, Test Recall: 0.8807, Test F1: 0.8817\n",
      "\n"
     ]
    },
    {
     "name": "stderr",
     "output_type": "stream",
     "text": [
      "Epoch 16/60 [Training]: 100%|██████████| 782/782 [01:11<00:00, 10.88it/s, accuracy=84.19%, loss=0.4546]\n",
      "Epoch 16/60 [Testing]: 100%|██████████| 157/157 [00:03<00:00, 39.43it/s, accuracy=87.62%, loss=0.3614]\n"
     ]
    },
    {
     "name": "stdout",
     "output_type": "stream",
     "text": [
      "\n",
      "Epoch [16/60] Summary:\n",
      "Train Loss: 0.4546, Train Acc: 84.19%\n",
      "Test Loss: 0.3614, Test Acc: 87.62%\n",
      "Train Precision: 0.8417, Train Recall: 0.8419, Train F1: 0.8417\n",
      "Test Precision: 0.8784, Test Recall: 0.8762, Test F1: 0.8760\n",
      "\n"
     ]
    },
    {
     "name": "stderr",
     "output_type": "stream",
     "text": [
      "Epoch 17/60 [Training]: 100%|██████████| 782/782 [01:11<00:00, 10.87it/s, accuracy=85.03%, loss=0.4291]\n",
      "Epoch 17/60 [Testing]: 100%|██████████| 157/157 [00:03<00:00, 39.30it/s, accuracy=86.77%, loss=0.3829]\n"
     ]
    },
    {
     "name": "stdout",
     "output_type": "stream",
     "text": [
      "\n",
      "Epoch [17/60] Summary:\n",
      "Train Loss: 0.4291, Train Acc: 85.03%\n",
      "Test Loss: 0.3829, Test Acc: 86.77%\n",
      "Train Precision: 0.8501, Train Recall: 0.8503, Train F1: 0.8501\n",
      "Test Precision: 0.8752, Test Recall: 0.8677, Test F1: 0.8695\n",
      "\n"
     ]
    },
    {
     "name": "stderr",
     "output_type": "stream",
     "text": [
      "Epoch 18/60 [Training]: 100%|██████████| 782/782 [01:11<00:00, 10.87it/s, accuracy=85.39%, loss=0.4190]\n",
      "Epoch 18/60 [Testing]: 100%|██████████| 157/157 [00:03<00:00, 39.33it/s, accuracy=89.22%, loss=0.3256]\n"
     ]
    },
    {
     "name": "stdout",
     "output_type": "stream",
     "text": [
      "\n",
      "Epoch [18/60] Summary:\n",
      "Train Loss: 0.4190, Train Acc: 85.39%\n",
      "Test Loss: 0.3256, Test Acc: 89.22%\n",
      "Train Precision: 0.8537, Train Recall: 0.8539, Train F1: 0.8537\n",
      "Test Precision: 0.8916, Test Recall: 0.8922, Test F1: 0.8917\n",
      "\n"
     ]
    },
    {
     "name": "stderr",
     "output_type": "stream",
     "text": [
      "Epoch 19/60 [Training]: 100%|██████████| 782/782 [01:11<00:00, 10.87it/s, accuracy=86.26%, loss=0.3958]\n",
      "Epoch 19/60 [Testing]: 100%|██████████| 157/157 [00:04<00:00, 38.47it/s, accuracy=89.04%, loss=0.3179]\n"
     ]
    },
    {
     "name": "stdout",
     "output_type": "stream",
     "text": [
      "\n",
      "Epoch [19/60] Summary:\n",
      "Train Loss: 0.3958, Train Acc: 86.26%\n",
      "Test Loss: 0.3179, Test Acc: 89.04%\n",
      "Train Precision: 0.8624, Train Recall: 0.8626, Train F1: 0.8624\n",
      "Test Precision: 0.8917, Test Recall: 0.8904, Test F1: 0.8904\n",
      "\n"
     ]
    },
    {
     "name": "stderr",
     "output_type": "stream",
     "text": [
      "Epoch 20/60 [Training]: 100%|██████████| 782/782 [01:11<00:00, 10.87it/s, accuracy=86.42%, loss=0.3892]\n",
      "Epoch 20/60 [Testing]: 100%|██████████| 157/157 [00:03<00:00, 39.35it/s, accuracy=89.06%, loss=0.3244]\n"
     ]
    },
    {
     "name": "stdout",
     "output_type": "stream",
     "text": [
      "\n",
      "Epoch [20/60] Summary:\n",
      "Train Loss: 0.3892, Train Acc: 86.42%\n",
      "Test Loss: 0.3244, Test Acc: 89.06%\n",
      "Train Precision: 0.8642, Train Recall: 0.8642, Train F1: 0.8641\n",
      "Test Precision: 0.8916, Test Recall: 0.8906, Test F1: 0.8903\n",
      "\n"
     ]
    },
    {
     "name": "stderr",
     "output_type": "stream",
     "text": [
      "Epoch 21/60 [Training]: 100%|██████████| 782/782 [01:11<00:00, 10.88it/s, accuracy=86.92%, loss=0.3737]\n",
      "Epoch 21/60 [Testing]: 100%|██████████| 157/157 [00:03<00:00, 39.32it/s, accuracy=89.50%, loss=0.3013]\n"
     ]
    },
    {
     "name": "stdout",
     "output_type": "stream",
     "text": [
      "\n",
      "Epoch [21/60] Summary:\n",
      "Train Loss: 0.3737, Train Acc: 86.92%\n",
      "Test Loss: 0.3013, Test Acc: 89.50%\n",
      "Train Precision: 0.8692, Train Recall: 0.8692, Train F1: 0.8692\n",
      "Test Precision: 0.8967, Test Recall: 0.8950, Test F1: 0.8947\n",
      "\n"
     ]
    },
    {
     "name": "stderr",
     "output_type": "stream",
     "text": [
      "Epoch 22/60 [Training]: 100%|██████████| 782/782 [01:12<00:00, 10.81it/s, accuracy=87.40%, loss=0.3611]\n",
      "Epoch 22/60 [Testing]: 100%|██████████| 157/157 [00:04<00:00, 39.09it/s, accuracy=89.46%, loss=0.3037]\n"
     ]
    },
    {
     "name": "stdout",
     "output_type": "stream",
     "text": [
      "\n",
      "Epoch [22/60] Summary:\n",
      "Train Loss: 0.3611, Train Acc: 87.40%\n",
      "Test Loss: 0.3037, Test Acc: 89.46%\n",
      "Train Precision: 0.8737, Train Recall: 0.8740, Train F1: 0.8738\n",
      "Test Precision: 0.8953, Test Recall: 0.8946, Test F1: 0.8946\n",
      "\n"
     ]
    },
    {
     "name": "stderr",
     "output_type": "stream",
     "text": [
      "Epoch 23/60 [Training]: 100%|██████████| 782/782 [01:11<00:00, 10.86it/s, accuracy=87.82%, loss=0.3462]\n",
      "Epoch 23/60 [Testing]: 100%|██████████| 157/157 [00:04<00:00, 38.83it/s, accuracy=90.32%, loss=0.2806]\n"
     ]
    },
    {
     "name": "stdout",
     "output_type": "stream",
     "text": [
      "\n",
      "Epoch [23/60] Summary:\n",
      "Train Loss: 0.3462, Train Acc: 87.82%\n",
      "Test Loss: 0.2806, Test Acc: 90.32%\n",
      "Train Precision: 0.8781, Train Recall: 0.8782, Train F1: 0.8781\n",
      "Test Precision: 0.9043, Test Recall: 0.9032, Test F1: 0.9029\n",
      "\n"
     ]
    },
    {
     "name": "stderr",
     "output_type": "stream",
     "text": [
      "Epoch 24/60 [Training]: 100%|██████████| 782/782 [01:11<00:00, 10.87it/s, accuracy=88.26%, loss=0.3381]\n",
      "Epoch 24/60 [Testing]: 100%|██████████| 157/157 [00:04<00:00, 38.62it/s, accuracy=90.21%, loss=0.2907]\n"
     ]
    },
    {
     "name": "stdout",
     "output_type": "stream",
     "text": [
      "\n",
      "Epoch [24/60] Summary:\n",
      "Train Loss: 0.3381, Train Acc: 88.26%\n",
      "Test Loss: 0.2907, Test Acc: 90.21%\n",
      "Train Precision: 0.8823, Train Recall: 0.8826, Train F1: 0.8825\n",
      "Test Precision: 0.9045, Test Recall: 0.9021, Test F1: 0.9026\n",
      "\n"
     ]
    },
    {
     "name": "stderr",
     "output_type": "stream",
     "text": [
      "Epoch 25/60 [Training]: 100%|██████████| 782/782 [01:11<00:00, 10.87it/s, accuracy=88.45%, loss=0.3270]\n",
      "Epoch 25/60 [Testing]: 100%|██████████| 157/157 [00:04<00:00, 39.24it/s, accuracy=90.19%, loss=0.2897]\n"
     ]
    },
    {
     "name": "stdout",
     "output_type": "stream",
     "text": [
      "\n",
      "Epoch [25/60] Summary:\n",
      "Train Loss: 0.3270, Train Acc: 88.45%\n",
      "Test Loss: 0.2897, Test Acc: 90.19%\n",
      "Train Precision: 0.8844, Train Recall: 0.8845, Train F1: 0.8844\n",
      "Test Precision: 0.9021, Test Recall: 0.9019, Test F1: 0.9016\n",
      "\n"
     ]
    },
    {
     "name": "stderr",
     "output_type": "stream",
     "text": [
      "Epoch 26/60 [Training]: 100%|██████████| 782/782 [01:11<00:00, 10.87it/s, accuracy=88.81%, loss=0.3161]\n",
      "Epoch 26/60 [Testing]: 100%|██████████| 157/157 [00:03<00:00, 39.26it/s, accuracy=90.25%, loss=0.2805]\n"
     ]
    },
    {
     "name": "stdout",
     "output_type": "stream",
     "text": [
      "\n",
      "Epoch [26/60] Summary:\n",
      "Train Loss: 0.3161, Train Acc: 88.81%\n",
      "Test Loss: 0.2805, Test Acc: 90.25%\n",
      "Train Precision: 0.8880, Train Recall: 0.8881, Train F1: 0.8880\n",
      "Test Precision: 0.9063, Test Recall: 0.9025, Test F1: 0.9034\n",
      "\n"
     ]
    },
    {
     "name": "stderr",
     "output_type": "stream",
     "text": [
      "Epoch 27/60 [Training]: 100%|██████████| 782/782 [01:11<00:00, 10.87it/s, accuracy=89.24%, loss=0.3084]\n",
      "Epoch 27/60 [Testing]: 100%|██████████| 157/157 [00:04<00:00, 38.99it/s, accuracy=89.91%, loss=0.3117]\n"
     ]
    },
    {
     "name": "stdout",
     "output_type": "stream",
     "text": [
      "\n",
      "Epoch [27/60] Summary:\n",
      "Train Loss: 0.3084, Train Acc: 89.24%\n",
      "Test Loss: 0.3117, Test Acc: 89.91%\n",
      "Train Precision: 0.8923, Train Recall: 0.8924, Train F1: 0.8923\n",
      "Test Precision: 0.9018, Test Recall: 0.8991, Test F1: 0.8995\n",
      "\n"
     ]
    },
    {
     "name": "stderr",
     "output_type": "stream",
     "text": [
      "Epoch 28/60 [Training]: 100%|██████████| 782/782 [01:11<00:00, 10.87it/s, accuracy=89.60%, loss=0.2967]\n",
      "Epoch 28/60 [Testing]: 100%|██████████| 157/157 [00:04<00:00, 39.24it/s, accuracy=89.97%, loss=0.2961]\n"
     ]
    },
    {
     "name": "stdout",
     "output_type": "stream",
     "text": [
      "\n",
      "Epoch [28/60] Summary:\n",
      "Train Loss: 0.2967, Train Acc: 89.60%\n",
      "Test Loss: 0.2961, Test Acc: 89.97%\n",
      "Train Precision: 0.8958, Train Recall: 0.8960, Train F1: 0.8959\n",
      "Test Precision: 0.9035, Test Recall: 0.8997, Test F1: 0.9003\n",
      "\n"
     ]
    },
    {
     "name": "stderr",
     "output_type": "stream",
     "text": [
      "Epoch 29/60 [Training]: 100%|██████████| 782/782 [01:11<00:00, 10.87it/s, accuracy=89.76%, loss=0.2923]\n",
      "Epoch 29/60 [Testing]: 100%|██████████| 157/157 [00:04<00:00, 39.21it/s, accuracy=90.70%, loss=0.2777]\n"
     ]
    },
    {
     "name": "stdout",
     "output_type": "stream",
     "text": [
      "\n",
      "Epoch [29/60] Summary:\n",
      "Train Loss: 0.2923, Train Acc: 89.76%\n",
      "Test Loss: 0.2777, Test Acc: 90.70%\n",
      "Train Precision: 0.8975, Train Recall: 0.8976, Train F1: 0.8975\n",
      "Test Precision: 0.9086, Test Recall: 0.9070, Test F1: 0.9063\n",
      "\n"
     ]
    },
    {
     "name": "stderr",
     "output_type": "stream",
     "text": [
      "Epoch 30/60 [Training]: 100%|██████████| 782/782 [01:11<00:00, 10.87it/s, accuracy=90.24%, loss=0.2811]\n",
      "Epoch 30/60 [Testing]: 100%|██████████| 157/157 [00:04<00:00, 38.90it/s, accuracy=91.04%, loss=0.2712]\n"
     ]
    },
    {
     "name": "stdout",
     "output_type": "stream",
     "text": [
      "\n",
      "Epoch [30/60] Summary:\n",
      "Train Loss: 0.2811, Train Acc: 90.24%\n",
      "Test Loss: 0.2712, Test Acc: 91.04%\n",
      "Train Precision: 0.9023, Train Recall: 0.9024, Train F1: 0.9024\n",
      "Test Precision: 0.9121, Test Recall: 0.9104, Test F1: 0.9104\n",
      "\n"
     ]
    },
    {
     "name": "stderr",
     "output_type": "stream",
     "text": [
      "Epoch 31/60 [Training]: 100%|██████████| 782/782 [01:11<00:00, 10.87it/s, accuracy=90.34%, loss=0.2773]\n",
      "Epoch 31/60 [Testing]: 100%|██████████| 157/157 [00:03<00:00, 39.27it/s, accuracy=91.22%, loss=0.2612]\n"
     ]
    },
    {
     "name": "stdout",
     "output_type": "stream",
     "text": [
      "\n",
      "Epoch [31/60] Summary:\n",
      "Train Loss: 0.2773, Train Acc: 90.34%\n",
      "Test Loss: 0.2612, Test Acc: 91.22%\n",
      "Train Precision: 0.9033, Train Recall: 0.9034, Train F1: 0.9033\n",
      "Test Precision: 0.9152, Test Recall: 0.9122, Test F1: 0.9121\n",
      "\n"
     ]
    },
    {
     "name": "stderr",
     "output_type": "stream",
     "text": [
      "Epoch 32/60 [Training]: 100%|██████████| 782/782 [01:11<00:00, 10.87it/s, accuracy=90.59%, loss=0.2688]\n",
      "Epoch 32/60 [Testing]: 100%|██████████| 157/157 [00:03<00:00, 39.41it/s, accuracy=90.94%, loss=0.2691]\n"
     ]
    },
    {
     "name": "stdout",
     "output_type": "stream",
     "text": [
      "\n",
      "Epoch [32/60] Summary:\n",
      "Train Loss: 0.2688, Train Acc: 90.59%\n",
      "Test Loss: 0.2691, Test Acc: 90.94%\n",
      "Train Precision: 0.9058, Train Recall: 0.9059, Train F1: 0.9058\n",
      "Test Precision: 0.9112, Test Recall: 0.9094, Test F1: 0.9099\n",
      "\n"
     ]
    },
    {
     "name": "stderr",
     "output_type": "stream",
     "text": [
      "Epoch 33/60 [Training]: 100%|██████████| 782/782 [01:11<00:00, 10.88it/s, accuracy=90.69%, loss=0.2618]\n",
      "Epoch 33/60 [Testing]: 100%|██████████| 157/157 [00:04<00:00, 38.43it/s, accuracy=92.05%, loss=0.2442]\n"
     ]
    },
    {
     "name": "stdout",
     "output_type": "stream",
     "text": [
      "\n",
      "Epoch [33/60] Summary:\n",
      "Train Loss: 0.2618, Train Acc: 90.69%\n",
      "Test Loss: 0.2442, Test Acc: 92.05%\n",
      "Train Precision: 0.9068, Train Recall: 0.9069, Train F1: 0.9068\n",
      "Test Precision: 0.9216, Test Recall: 0.9205, Test F1: 0.9205\n",
      "\n"
     ]
    },
    {
     "name": "stderr",
     "output_type": "stream",
     "text": [
      "Epoch 34/60 [Training]: 100%|██████████| 782/782 [01:11<00:00, 10.86it/s, accuracy=91.14%, loss=0.2503]\n",
      "Epoch 34/60 [Testing]: 100%|██████████| 157/157 [00:04<00:00, 39.25it/s, accuracy=91.97%, loss=0.2477]\n"
     ]
    },
    {
     "name": "stdout",
     "output_type": "stream",
     "text": [
      "\n",
      "Epoch [34/60] Summary:\n",
      "Train Loss: 0.2503, Train Acc: 91.14%\n",
      "Test Loss: 0.2477, Test Acc: 91.97%\n",
      "Train Precision: 0.9115, Train Recall: 0.9114, Train F1: 0.9114\n",
      "Test Precision: 0.9198, Test Recall: 0.9197, Test F1: 0.9194\n",
      "\n"
     ]
    },
    {
     "name": "stderr",
     "output_type": "stream",
     "text": [
      "Epoch 35/60 [Training]: 100%|██████████| 782/782 [01:12<00:00, 10.86it/s, accuracy=91.05%, loss=0.2515]\n",
      "Epoch 35/60 [Testing]: 100%|██████████| 157/157 [00:04<00:00, 39.19it/s, accuracy=91.72%, loss=0.2521]\n"
     ]
    },
    {
     "name": "stdout",
     "output_type": "stream",
     "text": [
      "\n",
      "Epoch [35/60] Summary:\n",
      "Train Loss: 0.2515, Train Acc: 91.05%\n",
      "Test Loss: 0.2521, Test Acc: 91.72%\n",
      "Train Precision: 0.9104, Train Recall: 0.9105, Train F1: 0.9104\n",
      "Test Precision: 0.9182, Test Recall: 0.9172, Test F1: 0.9173\n",
      "\n"
     ]
    },
    {
     "name": "stderr",
     "output_type": "stream",
     "text": [
      "Epoch 36/60 [Training]: 100%|██████████| 782/782 [01:11<00:00, 10.94it/s, accuracy=91.71%, loss=0.2373]\n",
      "Epoch 36/60 [Testing]: 100%|██████████| 157/157 [00:03<00:00, 39.27it/s, accuracy=92.24%, loss=0.2394]\n"
     ]
    },
    {
     "name": "stdout",
     "output_type": "stream",
     "text": [
      "\n",
      "Epoch [36/60] Summary:\n",
      "Train Loss: 0.2373, Train Acc: 91.71%\n",
      "Test Loss: 0.2394, Test Acc: 92.24%\n",
      "Train Precision: 0.9170, Train Recall: 0.9171, Train F1: 0.9170\n",
      "Test Precision: 0.9230, Test Recall: 0.9224, Test F1: 0.9224\n",
      "\n"
     ]
    },
    {
     "name": "stderr",
     "output_type": "stream",
     "text": [
      "Epoch 37/60 [Training]: 100%|██████████| 782/782 [01:11<00:00, 10.92it/s, accuracy=91.74%, loss=0.2334]\n",
      "Epoch 37/60 [Testing]: 100%|██████████| 157/157 [00:03<00:00, 39.74it/s, accuracy=92.07%, loss=0.2426]\n"
     ]
    },
    {
     "name": "stdout",
     "output_type": "stream",
     "text": [
      "\n",
      "Epoch [37/60] Summary:\n",
      "Train Loss: 0.2334, Train Acc: 91.74%\n",
      "Test Loss: 0.2426, Test Acc: 92.07%\n",
      "Train Precision: 0.9174, Train Recall: 0.9174, Train F1: 0.9174\n",
      "Test Precision: 0.9218, Test Recall: 0.9207, Test F1: 0.9207\n",
      "\n"
     ]
    },
    {
     "name": "stderr",
     "output_type": "stream",
     "text": [
      "Epoch 38/60 [Training]: 100%|██████████| 782/782 [01:11<00:00, 10.95it/s, accuracy=91.91%, loss=0.2304]\n",
      "Epoch 38/60 [Testing]: 100%|██████████| 157/157 [00:03<00:00, 39.52it/s, accuracy=92.10%, loss=0.2412]\n"
     ]
    },
    {
     "name": "stdout",
     "output_type": "stream",
     "text": [
      "\n",
      "Epoch [38/60] Summary:\n",
      "Train Loss: 0.2304, Train Acc: 91.91%\n",
      "Test Loss: 0.2412, Test Acc: 92.10%\n",
      "Train Precision: 0.9190, Train Recall: 0.9191, Train F1: 0.9190\n",
      "Test Precision: 0.9224, Test Recall: 0.9210, Test F1: 0.9212\n",
      "\n"
     ]
    },
    {
     "name": "stderr",
     "output_type": "stream",
     "text": [
      "Epoch 39/60 [Training]: 100%|██████████| 782/782 [01:11<00:00, 10.87it/s, accuracy=92.20%, loss=0.2203]\n",
      "Epoch 39/60 [Testing]: 100%|██████████| 157/157 [00:04<00:00, 38.94it/s, accuracy=92.02%, loss=0.2499]\n"
     ]
    },
    {
     "name": "stdout",
     "output_type": "stream",
     "text": [
      "\n",
      "Epoch [39/60] Summary:\n",
      "Train Loss: 0.2203, Train Acc: 92.20%\n",
      "Test Loss: 0.2499, Test Acc: 92.02%\n",
      "Train Precision: 0.9220, Train Recall: 0.9220, Train F1: 0.9220\n",
      "Test Precision: 0.9218, Test Recall: 0.9202, Test F1: 0.9205\n",
      "\n"
     ]
    },
    {
     "name": "stderr",
     "output_type": "stream",
     "text": [
      "Epoch 40/60 [Training]: 100%|██████████| 782/782 [01:11<00:00, 10.88it/s, accuracy=91.98%, loss=0.2239]\n",
      "Epoch 40/60 [Testing]: 100%|██████████| 157/157 [00:04<00:00, 38.68it/s, accuracy=92.59%, loss=0.2308]\n"
     ]
    },
    {
     "name": "stdout",
     "output_type": "stream",
     "text": [
      "\n",
      "Epoch [40/60] Summary:\n",
      "Train Loss: 0.2239, Train Acc: 91.98%\n",
      "Test Loss: 0.2308, Test Acc: 92.59%\n",
      "Train Precision: 0.9198, Train Recall: 0.9198, Train F1: 0.9197\n",
      "Test Precision: 0.9268, Test Recall: 0.9259, Test F1: 0.9259\n",
      "\n"
     ]
    },
    {
     "name": "stderr",
     "output_type": "stream",
     "text": [
      "Epoch 41/60 [Training]: 100%|██████████| 782/782 [01:11<00:00, 10.91it/s, accuracy=92.50%, loss=0.2119]\n",
      "Epoch 41/60 [Testing]: 100%|██████████| 157/157 [00:03<00:00, 39.55it/s, accuracy=92.04%, loss=0.2432]\n"
     ]
    },
    {
     "name": "stdout",
     "output_type": "stream",
     "text": [
      "\n",
      "Epoch [41/60] Summary:\n",
      "Train Loss: 0.2119, Train Acc: 92.50%\n",
      "Test Loss: 0.2432, Test Acc: 92.04%\n",
      "Train Precision: 0.9249, Train Recall: 0.9250, Train F1: 0.9250\n",
      "Test Precision: 0.9216, Test Recall: 0.9204, Test F1: 0.9207\n",
      "\n"
     ]
    },
    {
     "name": "stderr",
     "output_type": "stream",
     "text": [
      "Epoch 42/60 [Training]: 100%|██████████| 782/782 [01:11<00:00, 10.93it/s, accuracy=92.65%, loss=0.2075]\n",
      "Epoch 42/60 [Testing]: 100%|██████████| 157/157 [00:03<00:00, 39.76it/s, accuracy=91.49%, loss=0.2770]\n"
     ]
    },
    {
     "name": "stdout",
     "output_type": "stream",
     "text": [
      "\n",
      "Epoch [42/60] Summary:\n",
      "Train Loss: 0.2075, Train Acc: 92.65%\n",
      "Test Loss: 0.2770, Test Acc: 91.49%\n",
      "Train Precision: 0.9265, Train Recall: 0.9265, Train F1: 0.9265\n",
      "Test Precision: 0.9201, Test Recall: 0.9149, Test F1: 0.9147\n",
      "\n"
     ]
    },
    {
     "name": "stderr",
     "output_type": "stream",
     "text": [
      "Epoch 43/60 [Training]: 100%|██████████| 782/782 [01:11<00:00, 10.93it/s, accuracy=92.89%, loss=0.2012]\n",
      "Epoch 43/60 [Testing]: 100%|██████████| 157/157 [00:03<00:00, 39.63it/s, accuracy=92.51%, loss=0.2326]\n"
     ]
    },
    {
     "name": "stdout",
     "output_type": "stream",
     "text": [
      "\n",
      "Epoch [43/60] Summary:\n",
      "Train Loss: 0.2012, Train Acc: 92.89%\n",
      "Test Loss: 0.2326, Test Acc: 92.51%\n",
      "Train Precision: 0.9288, Train Recall: 0.9289, Train F1: 0.9288\n",
      "Test Precision: 0.9252, Test Recall: 0.9251, Test F1: 0.9249\n",
      "\n"
     ]
    },
    {
     "name": "stderr",
     "output_type": "stream",
     "text": [
      "Epoch 44/60 [Training]: 100%|██████████| 782/782 [01:11<00:00, 10.92it/s, accuracy=93.13%, loss=0.1965]\n",
      "Epoch 44/60 [Testing]: 100%|██████████| 157/157 [00:04<00:00, 38.81it/s, accuracy=92.63%, loss=0.2326]\n"
     ]
    },
    {
     "name": "stdout",
     "output_type": "stream",
     "text": [
      "\n",
      "Epoch [44/60] Summary:\n",
      "Train Loss: 0.1965, Train Acc: 93.13%\n",
      "Test Loss: 0.2326, Test Acc: 92.63%\n",
      "Train Precision: 0.9313, Train Recall: 0.9313, Train F1: 0.9313\n",
      "Test Precision: 0.9263, Test Recall: 0.9263, Test F1: 0.9261\n",
      "\n"
     ]
    },
    {
     "name": "stderr",
     "output_type": "stream",
     "text": [
      "Epoch 45/60 [Training]: 100%|██████████| 782/782 [01:11<00:00, 10.94it/s, accuracy=93.30%, loss=0.1904]\n",
      "Epoch 45/60 [Testing]: 100%|██████████| 157/157 [00:03<00:00, 39.37it/s, accuracy=92.29%, loss=0.2442]\n"
     ]
    },
    {
     "name": "stdout",
     "output_type": "stream",
     "text": [
      "\n",
      "Epoch [45/60] Summary:\n",
      "Train Loss: 0.1904, Train Acc: 93.30%\n",
      "Test Loss: 0.2442, Test Acc: 92.29%\n",
      "Train Precision: 0.9329, Train Recall: 0.9330, Train F1: 0.9330\n",
      "Test Precision: 0.9252, Test Recall: 0.9229, Test F1: 0.9233\n",
      "\n"
     ]
    },
    {
     "name": "stderr",
     "output_type": "stream",
     "text": [
      "Epoch 46/60 [Training]: 100%|██████████| 782/782 [01:11<00:00, 10.94it/s, accuracy=93.42%, loss=0.1860]\n",
      "Epoch 46/60 [Testing]: 100%|██████████| 157/157 [00:03<00:00, 39.74it/s, accuracy=92.62%, loss=0.2301]\n"
     ]
    },
    {
     "name": "stdout",
     "output_type": "stream",
     "text": [
      "\n",
      "Epoch [46/60] Summary:\n",
      "Train Loss: 0.1860, Train Acc: 93.42%\n",
      "Test Loss: 0.2301, Test Acc: 92.62%\n",
      "Train Precision: 0.9342, Train Recall: 0.9342, Train F1: 0.9342\n",
      "Test Precision: 0.9269, Test Recall: 0.9262, Test F1: 0.9261\n",
      "\n"
     ]
    },
    {
     "name": "stderr",
     "output_type": "stream",
     "text": [
      "Epoch 47/60 [Training]: 100%|██████████| 782/782 [01:11<00:00, 10.93it/s, accuracy=93.62%, loss=0.1817]\n",
      "Epoch 47/60 [Testing]: 100%|██████████| 157/157 [00:03<00:00, 39.57it/s, accuracy=92.39%, loss=0.2337]\n"
     ]
    },
    {
     "name": "stdout",
     "output_type": "stream",
     "text": [
      "\n",
      "Epoch [47/60] Summary:\n",
      "Train Loss: 0.1817, Train Acc: 93.62%\n",
      "Test Loss: 0.2337, Test Acc: 92.39%\n",
      "Train Precision: 0.9362, Train Recall: 0.9362, Train F1: 0.9362\n",
      "Test Precision: 0.9262, Test Recall: 0.9239, Test F1: 0.9243\n",
      "\n"
     ]
    },
    {
     "name": "stderr",
     "output_type": "stream",
     "text": [
      "Epoch 48/60 [Training]: 100%|██████████| 782/782 [01:11<00:00, 10.93it/s, accuracy=93.52%, loss=0.1800]\n",
      "Epoch 48/60 [Testing]: 100%|██████████| 157/157 [00:04<00:00, 38.80it/s, accuracy=92.68%, loss=0.2275]\n"
     ]
    },
    {
     "name": "stdout",
     "output_type": "stream",
     "text": [
      "\n",
      "Epoch [48/60] Summary:\n",
      "Train Loss: 0.1800, Train Acc: 93.52%\n",
      "Test Loss: 0.2275, Test Acc: 92.68%\n",
      "Train Precision: 0.9352, Train Recall: 0.9352, Train F1: 0.9352\n",
      "Test Precision: 0.9268, Test Recall: 0.9268, Test F1: 0.9267\n",
      "\n"
     ]
    },
    {
     "name": "stderr",
     "output_type": "stream",
     "text": [
      "Epoch 49/60 [Training]: 100%|██████████| 782/782 [01:11<00:00, 10.94it/s, accuracy=93.91%, loss=0.1734]\n",
      "Epoch 49/60 [Testing]: 100%|██████████| 157/157 [00:04<00:00, 39.22it/s, accuracy=92.22%, loss=0.2555]\n"
     ]
    },
    {
     "name": "stdout",
     "output_type": "stream",
     "text": [
      "\n",
      "Epoch [49/60] Summary:\n",
      "Train Loss: 0.1734, Train Acc: 93.91%\n",
      "Test Loss: 0.2555, Test Acc: 92.22%\n",
      "Train Precision: 0.9391, Train Recall: 0.9391, Train F1: 0.9391\n",
      "Test Precision: 0.9256, Test Recall: 0.9222, Test F1: 0.9227\n",
      "\n"
     ]
    },
    {
     "name": "stderr",
     "output_type": "stream",
     "text": [
      "Epoch 50/60 [Training]: 100%|██████████| 782/782 [01:11<00:00, 10.92it/s, accuracy=94.01%, loss=0.1692]\n",
      "Epoch 50/60 [Testing]: 100%|██████████| 157/157 [00:03<00:00, 39.51it/s, accuracy=92.75%, loss=0.2291]\n"
     ]
    },
    {
     "name": "stdout",
     "output_type": "stream",
     "text": [
      "\n",
      "Epoch [50/60] Summary:\n",
      "Train Loss: 0.1692, Train Acc: 94.01%\n",
      "Test Loss: 0.2291, Test Acc: 92.75%\n",
      "Train Precision: 0.9401, Train Recall: 0.9401, Train F1: 0.9401\n",
      "Test Precision: 0.9290, Test Recall: 0.9275, Test F1: 0.9277\n",
      "\n"
     ]
    },
    {
     "name": "stderr",
     "output_type": "stream",
     "text": [
      "Epoch 51/60 [Training]: 100%|██████████| 782/782 [01:11<00:00, 10.89it/s, accuracy=94.12%, loss=0.1647]\n",
      "Epoch 51/60 [Testing]: 100%|██████████| 157/157 [00:03<00:00, 39.72it/s, accuracy=93.09%, loss=0.2321]\n"
     ]
    },
    {
     "name": "stdout",
     "output_type": "stream",
     "text": [
      "\n",
      "Epoch [51/60] Summary:\n",
      "Train Loss: 0.1647, Train Acc: 94.12%\n",
      "Test Loss: 0.2321, Test Acc: 93.09%\n",
      "Train Precision: 0.9412, Train Recall: 0.9412, Train F1: 0.9412\n",
      "Test Precision: 0.9312, Test Recall: 0.9309, Test F1: 0.9308\n",
      "\n"
     ]
    },
    {
     "name": "stderr",
     "output_type": "stream",
     "text": [
      "Epoch 52/60 [Training]: 100%|██████████| 782/782 [01:11<00:00, 10.93it/s, accuracy=94.44%, loss=0.1605]\n",
      "Epoch 52/60 [Testing]: 100%|██████████| 157/157 [00:03<00:00, 39.52it/s, accuracy=92.82%, loss=0.2266]\n"
     ]
    },
    {
     "name": "stdout",
     "output_type": "stream",
     "text": [
      "\n",
      "Epoch [52/60] Summary:\n",
      "Train Loss: 0.1605, Train Acc: 94.44%\n",
      "Test Loss: 0.2266, Test Acc: 92.82%\n",
      "Train Precision: 0.9443, Train Recall: 0.9444, Train F1: 0.9443\n",
      "Test Precision: 0.9289, Test Recall: 0.9282, Test F1: 0.9284\n",
      "\n"
     ]
    },
    {
     "name": "stderr",
     "output_type": "stream",
     "text": [
      "Epoch 53/60 [Training]: 100%|██████████| 782/782 [01:11<00:00, 10.88it/s, accuracy=94.31%, loss=0.1623]\n",
      "Epoch 53/60 [Testing]: 100%|██████████| 157/157 [00:04<00:00, 38.63it/s, accuracy=92.60%, loss=0.2437]\n"
     ]
    },
    {
     "name": "stdout",
     "output_type": "stream",
     "text": [
      "\n",
      "Epoch [53/60] Summary:\n",
      "Train Loss: 0.1623, Train Acc: 94.31%\n",
      "Test Loss: 0.2437, Test Acc: 92.60%\n",
      "Train Precision: 0.9431, Train Recall: 0.9431, Train F1: 0.9431\n",
      "Test Precision: 0.9257, Test Recall: 0.9260, Test F1: 0.9258\n",
      "\n"
     ]
    },
    {
     "name": "stderr",
     "output_type": "stream",
     "text": [
      "Epoch 54/60 [Training]: 100%|██████████| 782/782 [01:11<00:00, 10.88it/s, accuracy=94.35%, loss=0.1591]\n",
      "Epoch 54/60 [Testing]: 100%|██████████| 157/157 [00:04<00:00, 38.64it/s, accuracy=92.99%, loss=0.2252]\n"
     ]
    },
    {
     "name": "stdout",
     "output_type": "stream",
     "text": [
      "\n",
      "Epoch [54/60] Summary:\n",
      "Train Loss: 0.1591, Train Acc: 94.35%\n",
      "Test Loss: 0.2252, Test Acc: 92.99%\n",
      "Train Precision: 0.9435, Train Recall: 0.9435, Train F1: 0.9435\n",
      "Test Precision: 0.9303, Test Recall: 0.9299, Test F1: 0.9299\n",
      "\n"
     ]
    },
    {
     "name": "stderr",
     "output_type": "stream",
     "text": [
      "Epoch 55/60 [Training]: 100%|██████████| 782/782 [01:11<00:00, 10.87it/s, accuracy=94.72%, loss=0.1499]\n",
      "Epoch 55/60 [Testing]: 100%|██████████| 157/157 [00:03<00:00, 39.35it/s, accuracy=92.29%, loss=0.2531]\n"
     ]
    },
    {
     "name": "stdout",
     "output_type": "stream",
     "text": [
      "\n",
      "Epoch [55/60] Summary:\n",
      "Train Loss: 0.1499, Train Acc: 94.72%\n",
      "Test Loss: 0.2531, Test Acc: 92.29%\n",
      "Train Precision: 0.9472, Train Recall: 0.9472, Train F1: 0.9472\n",
      "Test Precision: 0.9242, Test Recall: 0.9229, Test F1: 0.9230\n",
      "\n"
     ]
    },
    {
     "name": "stderr",
     "output_type": "stream",
     "text": [
      "Epoch 56/60 [Training]: 100%|██████████| 782/782 [01:11<00:00, 10.89it/s, accuracy=94.83%, loss=0.1478]\n",
      "Epoch 56/60 [Testing]: 100%|██████████| 157/157 [00:03<00:00, 39.72it/s, accuracy=93.35%, loss=0.2191]\n"
     ]
    },
    {
     "name": "stdout",
     "output_type": "stream",
     "text": [
      "\n",
      "Epoch [56/60] Summary:\n",
      "Train Loss: 0.1478, Train Acc: 94.83%\n",
      "Test Loss: 0.2191, Test Acc: 93.35%\n",
      "Train Precision: 0.9483, Train Recall: 0.9483, Train F1: 0.9483\n",
      "Test Precision: 0.9344, Test Recall: 0.9335, Test F1: 0.9336\n",
      "\n"
     ]
    },
    {
     "name": "stderr",
     "output_type": "stream",
     "text": [
      "Epoch 57/60 [Training]: 100%|██████████| 782/782 [01:11<00:00, 10.93it/s, accuracy=94.80%, loss=0.1464]\n",
      "Epoch 57/60 [Testing]: 100%|██████████| 157/157 [00:03<00:00, 39.63it/s, accuracy=93.22%, loss=0.2272]\n"
     ]
    },
    {
     "name": "stdout",
     "output_type": "stream",
     "text": [
      "\n",
      "Epoch [57/60] Summary:\n",
      "Train Loss: 0.1464, Train Acc: 94.80%\n",
      "Test Loss: 0.2272, Test Acc: 93.22%\n",
      "Train Precision: 0.9480, Train Recall: 0.9480, Train F1: 0.9480\n",
      "Test Precision: 0.9328, Test Recall: 0.9322, Test F1: 0.9321\n",
      "\n"
     ]
    },
    {
     "name": "stderr",
     "output_type": "stream",
     "text": [
      "Epoch 58/60 [Training]: 100%|██████████| 782/782 [01:11<00:00, 10.94it/s, accuracy=95.00%, loss=0.1398]\n",
      "Epoch 58/60 [Testing]: 100%|██████████| 157/157 [00:03<00:00, 39.39it/s, accuracy=93.04%, loss=0.2310]\n"
     ]
    },
    {
     "name": "stdout",
     "output_type": "stream",
     "text": [
      "\n",
      "Epoch [58/60] Summary:\n",
      "Train Loss: 0.1398, Train Acc: 95.00%\n",
      "Test Loss: 0.2310, Test Acc: 93.04%\n",
      "Train Precision: 0.9500, Train Recall: 0.9500, Train F1: 0.9500\n",
      "Test Precision: 0.9313, Test Recall: 0.9304, Test F1: 0.9306\n",
      "\n"
     ]
    },
    {
     "name": "stderr",
     "output_type": "stream",
     "text": [
      "Epoch 59/60 [Training]: 100%|██████████| 782/782 [01:12<00:00, 10.86it/s, accuracy=95.19%, loss=0.1389]\n",
      "Epoch 59/60 [Testing]: 100%|██████████| 157/157 [00:04<00:00, 38.27it/s, accuracy=92.98%, loss=0.2340]\n"
     ]
    },
    {
     "name": "stdout",
     "output_type": "stream",
     "text": [
      "\n",
      "Epoch [59/60] Summary:\n",
      "Train Loss: 0.1389, Train Acc: 95.19%\n",
      "Test Loss: 0.2340, Test Acc: 92.98%\n",
      "Train Precision: 0.9518, Train Recall: 0.9519, Train F1: 0.9519\n",
      "Test Precision: 0.9308, Test Recall: 0.9298, Test F1: 0.9300\n",
      "\n"
     ]
    },
    {
     "name": "stderr",
     "output_type": "stream",
     "text": [
      "Epoch 60/60 [Training]: 100%|██████████| 782/782 [01:11<00:00, 10.87it/s, accuracy=95.27%, loss=0.1331]\n",
      "Epoch 60/60 [Testing]: 100%|██████████| 157/157 [00:04<00:00, 39.14it/s, accuracy=92.63%, loss=0.2517]\n"
     ]
    },
    {
     "name": "stdout",
     "output_type": "stream",
     "text": [
      "\n",
      "Epoch [60/60] Summary:\n",
      "Train Loss: 0.1331, Train Acc: 95.27%\n",
      "Test Loss: 0.2517, Test Acc: 92.63%\n",
      "Train Precision: 0.9527, Train Recall: 0.9527, Train F1: 0.9527\n",
      "Test Precision: 0.9264, Test Recall: 0.9263, Test F1: 0.9261\n",
      "\n",
      "Finished Training\n"
     ]
    }
   ],
   "source": [
    "model = ResNetMini(num_classes=10)\n",
    "\n",
    "if torch.cuda.device_count() > 1:\n",
    "    print(f\"{torch.cuda.device_count()} GPUs detected!\")\n",
    "    model = nn.DataParallel(model)  # Parallelize across GPUs\n",
    "\n",
    "model.to(device) \n",
    "\n",
    "# Training config\n",
    "num_epochs = 60\n",
    "criterion = nn.CrossEntropyLoss()\n",
    "optimizer = torch.optim.AdamW(model.parameters(), lr=0.0008) \n",
    "scheduler = torch.optim.lr_scheduler.CosineAnnealingLR(optimizer, T_max=200) \n",
    "\n",
    "# Metric tracking \n",
    "train_losses, test_losses = [], []\n",
    "train_accuracies, test_accuracies = [], []\n",
    "train_precisions, test_precisions = [], []\n",
    "train_recalls, test_recalls = [], []\n",
    "train_f1s, test_f1s = [], []\n",
    "\n",
    "for epoch in range(num_epochs):\n",
    "    model.train()\n",
    "    running_loss, correct, total = 0.0, 0, 0\n",
    "    all_preds, all_labels = [], []  \n",
    "\n",
    "    pbar = tqdm(train_loader, desc=f\"Epoch {epoch+1}/{num_epochs} [Training]\")\n",
    "    for inputs, labels in pbar:\n",
    "        inputs, labels = inputs.to(device), labels.to(device)\n",
    "        \n",
    "        # Training steps\n",
    "        optimizer.zero_grad()\n",
    "        outputs = model(inputs)\n",
    "        loss = criterion(outputs, labels)\n",
    "        loss.backward()\n",
    "        optimizer.step()\n",
    "\n",
    "        # Loss and accuracy \n",
    "        running_loss += loss.item() * inputs.size(0) \n",
    "        _, predicted = outputs.max(1)\n",
    "        total += labels.size(0)\n",
    "        correct += predicted.eq(labels).sum().item()\n",
    "\n",
    "        all_preds.extend(predicted.cpu().numpy())\n",
    "        all_labels.extend(labels.cpu().numpy())\n",
    "\n",
    "        # Update progress bar\n",
    "        pbar.set_postfix(loss=f\"{running_loss/total:.4f}\", accuracy=f\"{100.*correct/total:.2f}%\")\n",
    "\n",
    "    # Calculate epoch training metrics\n",
    "    epoch_train_loss = running_loss / total\n",
    "    epoch_train_acc = 100. * correct / total\n",
    "    epoch_train_precision = precision_score(all_labels, all_preds, average='macro')\n",
    "    epoch_train_recall = recall_score(all_labels, all_preds, average='macro')\n",
    "    epoch_train_f1 = f1_score(all_labels, all_preds, average='macro')\n",
    "\n",
    "    train_losses.append(epoch_train_loss)\n",
    "    train_accuracies.append(epoch_train_acc)\n",
    "    train_precisions.append(epoch_train_precision)\n",
    "    train_recalls.append(epoch_train_recall)\n",
    "    train_f1s.append(epoch_train_f1)\n",
    "\n",
    "    model.eval()\n",
    "    test_loss, correct_test, total_test = 0.0, 0, 0\n",
    "    all_preds, all_labels = [], []\n",
    "\n",
    "    with torch.no_grad():  \n",
    "        pbar_test = tqdm(test_loader, desc=f\"Epoch {epoch+1}/{num_epochs} [Testing]\")\n",
    "        for inputs, labels in pbar_test:\n",
    "            inputs, labels = inputs.to(device), labels.to(device)\n",
    "            outputs = model(inputs)\n",
    "            loss = criterion(outputs, labels)\n",
    "\n",
    "            test_loss += loss.item() * inputs.size(0)\n",
    "            _, predicted = outputs.max(1)\n",
    "            total_test += labels.size(0)\n",
    "            correct_test += predicted.eq(labels).sum().item()\n",
    "\n",
    "            all_preds.extend(predicted.cpu().numpy())\n",
    "            all_labels.extend(labels.cpu().numpy())\n",
    "\n",
    "            pbar_test.set_postfix(loss=f\"{test_loss/total_test:.4f}\", accuracy=f\"{100.*correct_test/total_test:.2f}%\")\n",
    "\n",
    "    # Calculate epoch test metrics\n",
    "    epoch_test_loss = test_loss / total_test\n",
    "    epoch_test_acc = 100. * correct_test / total_test\n",
    "    epoch_test_precision = precision_score(all_labels, all_preds, average='macro')\n",
    "    epoch_test_recall = recall_score(all_labels, all_preds, average='macro')\n",
    "    epoch_test_f1 = f1_score(all_labels, all_preds, average='macro')\n",
    "\n",
    "    test_losses.append(epoch_test_loss)\n",
    "    test_accuracies.append(epoch_test_acc)\n",
    "    test_precisions.append(epoch_test_precision)\n",
    "    test_recalls.append(epoch_test_recall)\n",
    "    test_f1s.append(epoch_test_f1)\n",
    "\n",
    "    scheduler.step() \n",
    "\n",
    "    print(f\"\\nEpoch [{epoch+1}/{num_epochs}] Summary:\")\n",
    "    print(f\"Train Loss: {epoch_train_loss:.4f}, Train Acc: {epoch_train_acc:.2f}%\")\n",
    "    print(f\"Test Loss: {epoch_test_loss:.4f}, Test Acc: {epoch_test_acc:.2f}%\")\n",
    "    print(f\"Train Precision: {epoch_train_precision:.4f}, Train Recall: {epoch_train_recall:.4f}, Train F1: {epoch_train_f1:.4f}\")\n",
    "    print(f\"Test Precision: {epoch_test_precision:.4f}, Test Recall: {epoch_test_recall:.4f}, Test F1: {epoch_test_f1:.4f}\\n\")\n",
    "\n",
    "# Save final model\n",
    "torch.save(model.state_dict(), 'resnet_mini_cifar10_finetuned_v1.pth')\n",
    "print('Finished Training')\n"
   ]
  },
  {
   "cell_type": "code",
   "execution_count": 8,
   "id": "e080d4f5",
   "metadata": {
    "execution": {
     "iopub.execute_input": "2025-03-14T03:19:33.320567Z",
     "iopub.status.busy": "2025-03-14T03:19:33.320255Z",
     "iopub.status.idle": "2025-03-14T03:19:35.911554Z",
     "shell.execute_reply": "2025-03-14T03:19:35.910702Z"
    },
    "papermill": {
     "duration": 6.928152,
     "end_time": "2025-03-14T03:19:35.913767",
     "exception": false,
     "start_time": "2025-03-14T03:19:28.985615",
     "status": "completed"
    },
    "tags": []
   },
   "outputs": [
    {
     "data": {
      "image/png": "[encoded data removed]",
      "text/plain": [
       "<Figure size 1500x700 with 5 Axes>"
      ]
     },
     "metadata": {},
     "output_type": "display_data"
    }
   ],
   "source": [
    "# Generate epoch numbers for x-axis\n",
    "epochs_range = range(1, num_epochs+1)\n",
    "\n",
    "plt.figure(figsize=(15,7))  \n",
    "\n",
    "# Loss comparison plot\n",
    "plt.subplot(2,3,1)  \n",
    "plt.plot(epochs_range, train_losses, label='Train Loss')\n",
    "plt.plot(epochs_range, test_losses, label='Test Loss')\n",
    "plt.xlabel('Epoch')\n",
    "plt.ylabel('Loss')\n",
    "plt.title('Training vs Validation Loss')\n",
    "plt.legend()\n",
    "\n",
    "# Accuracy comparison plot\n",
    "plt.subplot(2,3,2) \n",
    "plt.plot(epochs_range, train_accuracies, label='Train Accuracy')\n",
    "plt.plot(epochs_range, test_accuracies, label='Test Accuracy')\n",
    "plt.xlabel('Epoch')\n",
    "plt.ylabel('Accuracy (%)')\n",
    "plt.title('Training vs Validation Accuracy')\n",
    "plt.legend()\n",
    "\n",
    "# Precision comparison plot\n",
    "plt.subplot(2,3,3)  \n",
    "plt.plot(epochs_range, train_precisions, label='Train Precision')\n",
    "plt.plot(epochs_range, test_precisions, label='Test Precision')\n",
    "plt.xlabel('Epoch')\n",
    "plt.ylabel('Precision')\n",
    "plt.title('Training vs Validation Precision')\n",
    "plt.legend()\n",
    "\n",
    "# Recall comparison plot\n",
    "plt.subplot(2,3,4)  \n",
    "plt.plot(epochs_range, train_recalls, label='Train Recall')\n",
    "plt.plot(epochs_range, test_recalls, label='Test Recall')\n",
    "plt.xlabel('Epoch')\n",
    "plt.ylabel('Recall')\n",
    "plt.title('Training vs Validation Recall')\n",
    "plt.legend()\n",
    "\n",
    "# F1 Score comparison plot\n",
    "plt.subplot(2,3,5) \n",
    "plt.plot(epochs_range, train_f1s, label='Train F1 Score')\n",
    "plt.plot(epochs_range, test_f1s, label='Test F1 Score')\n",
    "plt.xlabel('Epoch')\n",
    "plt.ylabel('F1 Score')\n",
    "plt.title('Training vs Validation F1 Score')\n",
    "plt.legend()\n",
    "\n",
    "\n",
    "plt.tight_layout()  # Prevent label overlap\n",
    "plt.savefig(\"training_curves.png\", dpi=300, bbox_inches='tight') \n",
    "plt.show()\n"
   ]
  },
  {
   "cell_type": "markdown",
   "id": "7c95bee5",
   "metadata": {
    "papermill": {
     "duration": 4.054086,
     "end_time": "2025-03-14T03:19:44.118026",
     "exception": false,
     "start_time": "2025-03-14T03:19:40.063940",
     "status": "completed"
    },
    "tags": []
   },
   "source": [
    "# Inference"
   ]
  },
  {
   "cell_type": "code",
   "execution_count": 9,
   "id": "ae5e82bf",
   "metadata": {
    "execution": {
     "iopub.execute_input": "2025-03-14T03:19:52.333033Z",
     "iopub.status.busy": "2025-03-14T03:19:52.332666Z",
     "iopub.status.idle": "2025-03-14T03:19:52.336517Z",
     "shell.execute_reply": "2025-03-14T03:19:52.335847Z"
    },
    "papermill": {
     "duration": 4.172417,
     "end_time": "2025-03-14T03:19:52.337756",
     "exception": false,
     "start_time": "2025-03-14T03:19:48.165339",
     "status": "completed"
    },
    "tags": []
   },
   "outputs": [],
   "source": [
    "def unpickle(file):\n",
    "    with open(file, 'rb') as fo:\n",
    "        data_dict = pickle.load(fo, encoding='bytes')\n",
    "    return data_dict"
   ]
  },
  {
   "cell_type": "code",
   "execution_count": 10,
   "id": "367a6b7b",
   "metadata": {
    "execution": {
     "iopub.execute_input": "2025-03-14T03:20:00.437299Z",
     "iopub.status.busy": "2025-03-14T03:20:00.436986Z",
     "iopub.status.idle": "2025-03-14T03:20:01.014347Z",
     "shell.execute_reply": "2025-03-14T03:20:01.013433Z"
    },
    "papermill": {
     "duration": 4.672953,
     "end_time": "2025-03-14T03:20:01.015591",
     "exception": false,
     "start_time": "2025-03-14T03:19:56.342638",
     "status": "completed"
    },
    "tags": []
   },
   "outputs": [
    {
     "name": "stdout",
     "output_type": "stream",
     "text": [
      "dict_keys([b'data', b'ids'])\n",
      "Test images shape: (10000, 32, 32, 3)\n"
     ]
    }
   ],
   "source": [
    "test_data_dict = unpickle('/kaggle/input/deep-learning-spring-2025-project-1/cifar_test_nolabel.pkl')\n",
    "\n",
    "print(test_data_dict.keys())\n",
    "test_images = test_data_dict[b'data']\n",
    "test_ids = test_data_dict[b'ids']\n",
    "\n",
    "print(f\"Test images shape: {test_images.shape}\")"
   ]
  },
  {
   "cell_type": "code",
   "execution_count": 11,
   "id": "04695c34",
   "metadata": {
    "execution": {
     "iopub.execute_input": "2025-03-14T03:20:09.111235Z",
     "iopub.status.busy": "2025-03-14T03:20:09.110901Z",
     "iopub.status.idle": "2025-03-14T03:20:09.115740Z",
     "shell.execute_reply": "2025-03-14T03:20:09.114939Z"
    },
    "papermill": {
     "duration": 3.935414,
     "end_time": "2025-03-14T03:20:09.116991",
     "exception": false,
     "start_time": "2025-03-14T03:20:05.181577",
     "status": "completed"
    },
    "tags": []
   },
   "outputs": [],
   "source": [
    "class TestDataset(Dataset):\n",
    "    def __init__(self, images, ids, transform=None):\n",
    "        self.images = images\n",
    "        self.ids = ids\n",
    "        self.transform = transform\n",
    "\n",
    "    def __len__(self):\n",
    "        return len(self.images)\n",
    "\n",
    "    def __getitem__(self, idx):\n",
    "        img_array = self.images[idx]\n",
    "        img = Image.fromarray(img_array.astype('uint8'))  # Convert to PIL image\n",
    "        \n",
    "        if self.transform:\n",
    "            img = self.transform(img) \n",
    "\n",
    "        return img, self.ids[idx]  \n"
   ]
  },
  {
   "cell_type": "code",
   "execution_count": 12,
   "id": "3aa4ff3f",
   "metadata": {
    "execution": {
     "iopub.execute_input": "2025-03-14T03:20:17.351812Z",
     "iopub.status.busy": "2025-03-14T03:20:17.351476Z",
     "iopub.status.idle": "2025-03-14T03:20:17.356224Z",
     "shell.execute_reply": "2025-03-14T03:20:17.355382Z"
    },
    "papermill": {
     "duration": 4.27642,
     "end_time": "2025-03-14T03:20:17.357512",
     "exception": false,
     "start_time": "2025-03-14T03:20:13.081092",
     "status": "completed"
    },
    "tags": []
   },
   "outputs": [],
   "source": [
    "transform_test = transforms.Compose([\n",
    "    transforms.ToTensor(),\n",
    "    transforms.Normalize((0.4914, 0.4822, 0.4465), \n",
    "                         (0.2470, 0.2435, 0.2616))\n",
    "])\n",
    "\n",
    "test_dataset = TestDataset(test_images, test_ids, transform=transform_test)\n",
    "test_loader = DataLoader(test_dataset, batch_size=128, shuffle=False)"
   ]
  },
  {
   "cell_type": "code",
   "execution_count": 13,
   "id": "26c79587",
   "metadata": {
    "_kg_hide-output": true,
    "execution": {
     "iopub.execute_input": "2025-03-14T03:20:25.321772Z",
     "iopub.status.busy": "2025-03-14T03:20:25.321445Z",
     "iopub.status.idle": "2025-03-14T03:20:25.488007Z",
     "shell.execute_reply": "2025-03-14T03:20:25.487123Z"
    },
    "papermill": {
     "duration": 4.215092,
     "end_time": "2025-03-14T03:20:25.489429",
     "exception": false,
     "start_time": "2025-03-14T03:20:21.274337",
     "status": "completed"
    },
    "tags": []
   },
   "outputs": [
    {
     "name": "stderr",
     "output_type": "stream",
     "text": [
      "<ipython-input-13-8f2643488408>:5: FutureWarning: You are using `torch.load` with `weights_only=False` (the current default value), which uses the default pickle module implicitly. It is possible to construct malicious pickle data which will execute arbitrary code during unpickling (See https://github.com/pytorch/pytorch/blob/main/SECURITY.md#untrusted-models for more details). In a future release, the default value for `weights_only` will be flipped to `True`. This limits the functions that could be executed during unpickling. Arbitrary objects will no longer be allowed to be loaded via this mode unless they are explicitly allowlisted by the user via `torch.serialization.add_safe_globals`. We recommend you start setting `weights_only=True` for any use case where you don't have full control of the loaded file. Please open an issue on GitHub for any issues related to this experimental feature.\n",
      "  state_dict = torch.load('/kaggle/working/resnet_mini_cifar10_finetuned_v1.pth', map_location=device)\n"
     ]
    },
    {
     "data": {
      "text/plain": [
       "ResNetMini(\n",
       "  (conv1): Conv2d(3, 32, kernel_size=(3, 3), stride=(1, 1), padding=(1, 1))\n",
       "  (bn1): BatchNorm2d(32, eps=1e-05, momentum=0.1, affine=True, track_running_stats=True)\n",
       "  (relu): ReLU(inplace=True)\n",
       "  (gelu): GELU(approximate='none')\n",
       "  (layer1): Sequential(\n",
       "    (0): ResidualBlock(\n",
       "      (conv1): Conv2d(32, 48, kernel_size=(3, 3), stride=(1, 1), padding=(1, 1))\n",
       "      (bn1): BatchNorm2d(48, eps=1e-05, momentum=0.1, affine=True, track_running_stats=True)\n",
       "      (gelu): GELU(approximate='none')\n",
       "      (relu): ReLU()\n",
       "      (conv2): Conv2d(48, 48, kernel_size=(3, 3), stride=(1, 1), padding=(1, 1))\n",
       "      (bn2): BatchNorm2d(48, eps=1e-05, momentum=0.1, affine=True, track_running_stats=True)\n",
       "      (skip): Sequential(\n",
       "        (0): Conv2d(32, 48, kernel_size=(1, 1), stride=(1, 1))\n",
       "        (1): BatchNorm2d(48, eps=1e-05, momentum=0.1, affine=True, track_running_stats=True)\n",
       "      )\n",
       "    )\n",
       "    (1): ResidualBlock(\n",
       "      (conv1): Conv2d(48, 48, kernel_size=(3, 3), stride=(1, 1), padding=(1, 1))\n",
       "      (bn1): BatchNorm2d(48, eps=1e-05, momentum=0.1, affine=True, track_running_stats=True)\n",
       "      (gelu): GELU(approximate='none')\n",
       "      (relu): ReLU()\n",
       "      (conv2): Conv2d(48, 48, kernel_size=(3, 3), stride=(1, 1), padding=(1, 1))\n",
       "      (bn2): BatchNorm2d(48, eps=1e-05, momentum=0.1, affine=True, track_running_stats=True)\n",
       "      (skip): Sequential()\n",
       "    )\n",
       "    (2): ResidualBlock(\n",
       "      (conv1): Conv2d(48, 48, kernel_size=(3, 3), stride=(1, 1), padding=(1, 1))\n",
       "      (bn1): BatchNorm2d(48, eps=1e-05, momentum=0.1, affine=True, track_running_stats=True)\n",
       "      (gelu): GELU(approximate='none')\n",
       "      (relu): ReLU()\n",
       "      (conv2): Conv2d(48, 48, kernel_size=(3, 3), stride=(1, 1), padding=(1, 1))\n",
       "      (bn2): BatchNorm2d(48, eps=1e-05, momentum=0.1, affine=True, track_running_stats=True)\n",
       "      (skip): Sequential()\n",
       "    )\n",
       "    (3): ResidualBlock(\n",
       "      (conv1): Conv2d(48, 48, kernel_size=(3, 3), stride=(1, 1), padding=(1, 1))\n",
       "      (bn1): BatchNorm2d(48, eps=1e-05, momentum=0.1, affine=True, track_running_stats=True)\n",
       "      (gelu): GELU(approximate='none')\n",
       "      (relu): ReLU()\n",
       "      (conv2): Conv2d(48, 48, kernel_size=(3, 3), stride=(1, 1), padding=(1, 1))\n",
       "      (bn2): BatchNorm2d(48, eps=1e-05, momentum=0.1, affine=True, track_running_stats=True)\n",
       "      (skip): Sequential()\n",
       "    )\n",
       "    (4): ResidualBlock(\n",
       "      (conv1): Conv2d(48, 48, kernel_size=(3, 3), stride=(1, 1), padding=(1, 1))\n",
       "      (bn1): BatchNorm2d(48, eps=1e-05, momentum=0.1, affine=True, track_running_stats=True)\n",
       "      (gelu): GELU(approximate='none')\n",
       "      (relu): ReLU()\n",
       "      (conv2): Conv2d(48, 48, kernel_size=(3, 3), stride=(1, 1), padding=(1, 1))\n",
       "      (bn2): BatchNorm2d(48, eps=1e-05, momentum=0.1, affine=True, track_running_stats=True)\n",
       "      (skip): Sequential()\n",
       "    )\n",
       "    (5): ResidualBlock(\n",
       "      (conv1): Conv2d(48, 48, kernel_size=(3, 3), stride=(1, 1), padding=(1, 1))\n",
       "      (bn1): BatchNorm2d(48, eps=1e-05, momentum=0.1, affine=True, track_running_stats=True)\n",
       "      (gelu): GELU(approximate='none')\n",
       "      (relu): ReLU()\n",
       "      (conv2): Conv2d(48, 48, kernel_size=(3, 3), stride=(1, 1), padding=(1, 1))\n",
       "      (bn2): BatchNorm2d(48, eps=1e-05, momentum=0.1, affine=True, track_running_stats=True)\n",
       "      (skip): Sequential()\n",
       "    )\n",
       "    (6): ResidualBlock(\n",
       "      (conv1): Conv2d(48, 48, kernel_size=(3, 3), stride=(1, 1), padding=(1, 1))\n",
       "      (bn1): BatchNorm2d(48, eps=1e-05, momentum=0.1, affine=True, track_running_stats=True)\n",
       "      (gelu): GELU(approximate='none')\n",
       "      (relu): ReLU()\n",
       "      (conv2): Conv2d(48, 48, kernel_size=(3, 3), stride=(1, 1), padding=(1, 1))\n",
       "      (bn2): BatchNorm2d(48, eps=1e-05, momentum=0.1, affine=True, track_running_stats=True)\n",
       "      (skip): Sequential()\n",
       "    )\n",
       "    (7): ResidualBlock(\n",
       "      (conv1): Conv2d(48, 48, kernel_size=(3, 3), stride=(1, 1), padding=(1, 1))\n",
       "      (bn1): BatchNorm2d(48, eps=1e-05, momentum=0.1, affine=True, track_running_stats=True)\n",
       "      (gelu): GELU(approximate='none')\n",
       "      (relu): ReLU()\n",
       "      (conv2): Conv2d(48, 48, kernel_size=(3, 3), stride=(1, 1), padding=(1, 1))\n",
       "      (bn2): BatchNorm2d(48, eps=1e-05, momentum=0.1, affine=True, track_running_stats=True)\n",
       "      (skip): Sequential()\n",
       "    )\n",
       "    (8): ResidualBlock(\n",
       "      (conv1): Conv2d(48, 48, kernel_size=(3, 3), stride=(1, 1), padding=(1, 1))\n",
       "      (bn1): BatchNorm2d(48, eps=1e-05, momentum=0.1, affine=True, track_running_stats=True)\n",
       "      (gelu): GELU(approximate='none')\n",
       "      (relu): ReLU()\n",
       "      (conv2): Conv2d(48, 48, kernel_size=(3, 3), stride=(1, 1), padding=(1, 1))\n",
       "      (bn2): BatchNorm2d(48, eps=1e-05, momentum=0.1, affine=True, track_running_stats=True)\n",
       "      (skip): Sequential()\n",
       "    )\n",
       "    (9): ResidualBlock(\n",
       "      (conv1): Conv2d(48, 48, kernel_size=(3, 3), stride=(1, 1), padding=(1, 1))\n",
       "      (bn1): BatchNorm2d(48, eps=1e-05, momentum=0.1, affine=True, track_running_stats=True)\n",
       "      (gelu): GELU(approximate='none')\n",
       "      (relu): ReLU()\n",
       "      (conv2): Conv2d(48, 48, kernel_size=(3, 3), stride=(1, 1), padding=(1, 1))\n",
       "      (bn2): BatchNorm2d(48, eps=1e-05, momentum=0.1, affine=True, track_running_stats=True)\n",
       "      (skip): Sequential()\n",
       "    )\n",
       "    (10): ResidualBlock(\n",
       "      (conv1): Conv2d(48, 48, kernel_size=(3, 3), stride=(1, 1), padding=(1, 1))\n",
       "      (bn1): BatchNorm2d(48, eps=1e-05, momentum=0.1, affine=True, track_running_stats=True)\n",
       "      (gelu): GELU(approximate='none')\n",
       "      (relu): ReLU()\n",
       "      (conv2): Conv2d(48, 48, kernel_size=(3, 3), stride=(1, 1), padding=(1, 1))\n",
       "      (bn2): BatchNorm2d(48, eps=1e-05, momentum=0.1, affine=True, track_running_stats=True)\n",
       "      (skip): Sequential()\n",
       "    )\n",
       "    (11): ResidualBlock(\n",
       "      (conv1): Conv2d(48, 48, kernel_size=(3, 3), stride=(1, 1), padding=(1, 1))\n",
       "      (bn1): BatchNorm2d(48, eps=1e-05, momentum=0.1, affine=True, track_running_stats=True)\n",
       "      (gelu): GELU(approximate='none')\n",
       "      (relu): ReLU()\n",
       "      (conv2): Conv2d(48, 48, kernel_size=(3, 3), stride=(1, 1), padding=(1, 1))\n",
       "      (bn2): BatchNorm2d(48, eps=1e-05, momentum=0.1, affine=True, track_running_stats=True)\n",
       "      (skip): Sequential()\n",
       "    )\n",
       "    (12): ResidualBlock(\n",
       "      (conv1): Conv2d(48, 48, kernel_size=(3, 3), stride=(1, 1), padding=(1, 1))\n",
       "      (bn1): BatchNorm2d(48, eps=1e-05, momentum=0.1, affine=True, track_running_stats=True)\n",
       "      (gelu): GELU(approximate='none')\n",
       "      (relu): ReLU()\n",
       "      (conv2): Conv2d(48, 48, kernel_size=(3, 3), stride=(1, 1), padding=(1, 1))\n",
       "      (bn2): BatchNorm2d(48, eps=1e-05, momentum=0.1, affine=True, track_running_stats=True)\n",
       "      (skip): Sequential()\n",
       "    )\n",
       "    (13): ResidualBlock(\n",
       "      (conv1): Conv2d(48, 48, kernel_size=(3, 3), stride=(1, 1), padding=(1, 1))\n",
       "      (bn1): BatchNorm2d(48, eps=1e-05, momentum=0.1, affine=True, track_running_stats=True)\n",
       "      (gelu): GELU(approximate='none')\n",
       "      (relu): ReLU()\n",
       "      (conv2): Conv2d(48, 48, kernel_size=(3, 3), stride=(1, 1), padding=(1, 1))\n",
       "      (bn2): BatchNorm2d(48, eps=1e-05, momentum=0.1, affine=True, track_running_stats=True)\n",
       "      (skip): Sequential()\n",
       "    )\n",
       "    (14): ResidualBlock(\n",
       "      (conv1): Conv2d(48, 48, kernel_size=(3, 3), stride=(1, 1), padding=(1, 1))\n",
       "      (bn1): BatchNorm2d(48, eps=1e-05, momentum=0.1, affine=True, track_running_stats=True)\n",
       "      (gelu): GELU(approximate='none')\n",
       "      (relu): ReLU()\n",
       "      (conv2): Conv2d(48, 48, kernel_size=(3, 3), stride=(1, 1), padding=(1, 1))\n",
       "      (bn2): BatchNorm2d(48, eps=1e-05, momentum=0.1, affine=True, track_running_stats=True)\n",
       "      (skip): Sequential()\n",
       "    )\n",
       "    (15): ResidualBlock(\n",
       "      (conv1): Conv2d(48, 48, kernel_size=(3, 3), stride=(1, 1), padding=(1, 1))\n",
       "      (bn1): BatchNorm2d(48, eps=1e-05, momentum=0.1, affine=True, track_running_stats=True)\n",
       "      (gelu): GELU(approximate='none')\n",
       "      (relu): ReLU()\n",
       "      (conv2): Conv2d(48, 48, kernel_size=(3, 3), stride=(1, 1), padding=(1, 1))\n",
       "      (bn2): BatchNorm2d(48, eps=1e-05, momentum=0.1, affine=True, track_running_stats=True)\n",
       "      (skip): Sequential()\n",
       "    )\n",
       "  )\n",
       "  (layer2): Sequential(\n",
       "    (0): ResidualBlock(\n",
       "      (conv1): Conv2d(48, 64, kernel_size=(3, 3), stride=(2, 2), padding=(1, 1))\n",
       "      (bn1): BatchNorm2d(64, eps=1e-05, momentum=0.1, affine=True, track_running_stats=True)\n",
       "      (gelu): GELU(approximate='none')\n",
       "      (relu): ReLU()\n",
       "      (conv2): Conv2d(64, 64, kernel_size=(3, 3), stride=(1, 1), padding=(1, 1))\n",
       "      (bn2): BatchNorm2d(64, eps=1e-05, momentum=0.1, affine=True, track_running_stats=True)\n",
       "      (skip): Sequential(\n",
       "        (0): Conv2d(48, 64, kernel_size=(1, 1), stride=(2, 2))\n",
       "        (1): BatchNorm2d(64, eps=1e-05, momentum=0.1, affine=True, track_running_stats=True)\n",
       "      )\n",
       "    )\n",
       "    (1): ResidualBlock(\n",
       "      (conv1): Conv2d(64, 64, kernel_size=(3, 3), stride=(1, 1), padding=(1, 1))\n",
       "      (bn1): BatchNorm2d(64, eps=1e-05, momentum=0.1, affine=True, track_running_stats=True)\n",
       "      (gelu): GELU(approximate='none')\n",
       "      (relu): ReLU()\n",
       "      (conv2): Conv2d(64, 64, kernel_size=(3, 3), stride=(1, 1), padding=(1, 1))\n",
       "      (bn2): BatchNorm2d(64, eps=1e-05, momentum=0.1, affine=True, track_running_stats=True)\n",
       "      (skip): Sequential()\n",
       "    )\n",
       "    (2): ResidualBlock(\n",
       "      (conv1): Conv2d(64, 64, kernel_size=(3, 3), stride=(1, 1), padding=(1, 1))\n",
       "      (bn1): BatchNorm2d(64, eps=1e-05, momentum=0.1, affine=True, track_running_stats=True)\n",
       "      (gelu): GELU(approximate='none')\n",
       "      (relu): ReLU()\n",
       "      (conv2): Conv2d(64, 64, kernel_size=(3, 3), stride=(1, 1), padding=(1, 1))\n",
       "      (bn2): BatchNorm2d(64, eps=1e-05, momentum=0.1, affine=True, track_running_stats=True)\n",
       "      (skip): Sequential()\n",
       "    )\n",
       "    (3): ResidualBlock(\n",
       "      (conv1): Conv2d(64, 64, kernel_size=(3, 3), stride=(1, 1), padding=(1, 1))\n",
       "      (bn1): BatchNorm2d(64, eps=1e-05, momentum=0.1, affine=True, track_running_stats=True)\n",
       "      (gelu): GELU(approximate='none')\n",
       "      (relu): ReLU()\n",
       "      (conv2): Conv2d(64, 64, kernel_size=(3, 3), stride=(1, 1), padding=(1, 1))\n",
       "      (bn2): BatchNorm2d(64, eps=1e-05, momentum=0.1, affine=True, track_running_stats=True)\n",
       "      (skip): Sequential()\n",
       "    )\n",
       "    (4): ResidualBlock(\n",
       "      (conv1): Conv2d(64, 64, kernel_size=(3, 3), stride=(1, 1), padding=(1, 1))\n",
       "      (bn1): BatchNorm2d(64, eps=1e-05, momentum=0.1, affine=True, track_running_stats=True)\n",
       "      (gelu): GELU(approximate='none')\n",
       "      (relu): ReLU()\n",
       "      (conv2): Conv2d(64, 64, kernel_size=(3, 3), stride=(1, 1), padding=(1, 1))\n",
       "      (bn2): BatchNorm2d(64, eps=1e-05, momentum=0.1, affine=True, track_running_stats=True)\n",
       "      (skip): Sequential()\n",
       "    )\n",
       "    (5): ResidualBlock(\n",
       "      (conv1): Conv2d(64, 64, kernel_size=(3, 3), stride=(1, 1), padding=(1, 1))\n",
       "      (bn1): BatchNorm2d(64, eps=1e-05, momentum=0.1, affine=True, track_running_stats=True)\n",
       "      (gelu): GELU(approximate='none')\n",
       "      (relu): ReLU()\n",
       "      (conv2): Conv2d(64, 64, kernel_size=(3, 3), stride=(1, 1), padding=(1, 1))\n",
       "      (bn2): BatchNorm2d(64, eps=1e-05, momentum=0.1, affine=True, track_running_stats=True)\n",
       "      (skip): Sequential()\n",
       "    )\n",
       "    (6): ResidualBlock(\n",
       "      (conv1): Conv2d(64, 64, kernel_size=(3, 3), stride=(1, 1), padding=(1, 1))\n",
       "      (bn1): BatchNorm2d(64, eps=1e-05, momentum=0.1, affine=True, track_running_stats=True)\n",
       "      (gelu): GELU(approximate='none')\n",
       "      (relu): ReLU()\n",
       "      (conv2): Conv2d(64, 64, kernel_size=(3, 3), stride=(1, 1), padding=(1, 1))\n",
       "      (bn2): BatchNorm2d(64, eps=1e-05, momentum=0.1, affine=True, track_running_stats=True)\n",
       "      (skip): Sequential()\n",
       "    )\n",
       "    (7): ResidualBlock(\n",
       "      (conv1): Conv2d(64, 64, kernel_size=(3, 3), stride=(1, 1), padding=(1, 1))\n",
       "      (bn1): BatchNorm2d(64, eps=1e-05, momentum=0.1, affine=True, track_running_stats=True)\n",
       "      (gelu): GELU(approximate='none')\n",
       "      (relu): ReLU()\n",
       "      (conv2): Conv2d(64, 64, kernel_size=(3, 3), stride=(1, 1), padding=(1, 1))\n",
       "      (bn2): BatchNorm2d(64, eps=1e-05, momentum=0.1, affine=True, track_running_stats=True)\n",
       "      (skip): Sequential()\n",
       "    )\n",
       "  )\n",
       "  (layer3): Sequential(\n",
       "    (0): ResidualBlock(\n",
       "      (conv1): Conv2d(64, 152, kernel_size=(3, 3), stride=(2, 2), padding=(1, 1))\n",
       "      (bn1): BatchNorm2d(152, eps=1e-05, momentum=0.1, affine=True, track_running_stats=True)\n",
       "      (gelu): GELU(approximate='none')\n",
       "      (relu): ReLU()\n",
       "      (conv2): Conv2d(152, 152, kernel_size=(3, 3), stride=(1, 1), padding=(1, 1))\n",
       "      (bn2): BatchNorm2d(152, eps=1e-05, momentum=0.1, affine=True, track_running_stats=True)\n",
       "      (skip): Sequential(\n",
       "        (0): Conv2d(64, 152, kernel_size=(1, 1), stride=(2, 2))\n",
       "        (1): BatchNorm2d(152, eps=1e-05, momentum=0.1, affine=True, track_running_stats=True)\n",
       "      )\n",
       "    )\n",
       "    (1): ResidualBlock(\n",
       "      (conv1): Conv2d(152, 152, kernel_size=(3, 3), stride=(1, 1), padding=(1, 1))\n",
       "      (bn1): BatchNorm2d(152, eps=1e-05, momentum=0.1, affine=True, track_running_stats=True)\n",
       "      (gelu): GELU(approximate='none')\n",
       "      (relu): ReLU()\n",
       "      (conv2): Conv2d(152, 152, kernel_size=(3, 3), stride=(1, 1), padding=(1, 1))\n",
       "      (bn2): BatchNorm2d(152, eps=1e-05, momentum=0.1, affine=True, track_running_stats=True)\n",
       "      (skip): Sequential()\n",
       "    )\n",
       "    (2): ResidualBlock(\n",
       "      (conv1): Conv2d(152, 152, kernel_size=(3, 3), stride=(1, 1), padding=(1, 1))\n",
       "      (bn1): BatchNorm2d(152, eps=1e-05, momentum=0.1, affine=True, track_running_stats=True)\n",
       "      (gelu): GELU(approximate='none')\n",
       "      (relu): ReLU()\n",
       "      (conv2): Conv2d(152, 152, kernel_size=(3, 3), stride=(1, 1), padding=(1, 1))\n",
       "      (bn2): BatchNorm2d(152, eps=1e-05, momentum=0.1, affine=True, track_running_stats=True)\n",
       "      (skip): Sequential()\n",
       "    )\n",
       "    (3): ResidualBlock(\n",
       "      (conv1): Conv2d(152, 152, kernel_size=(3, 3), stride=(1, 1), padding=(1, 1))\n",
       "      (bn1): BatchNorm2d(152, eps=1e-05, momentum=0.1, affine=True, track_running_stats=True)\n",
       "      (gelu): GELU(approximate='none')\n",
       "      (relu): ReLU()\n",
       "      (conv2): Conv2d(152, 152, kernel_size=(3, 3), stride=(1, 1), padding=(1, 1))\n",
       "      (bn2): BatchNorm2d(152, eps=1e-05, momentum=0.1, affine=True, track_running_stats=True)\n",
       "      (skip): Sequential()\n",
       "    )\n",
       "  )\n",
       "  (layer4): Sequential(\n",
       "    (0): ResidualBlock(\n",
       "      (conv1): Conv2d(152, 256, kernel_size=(3, 3), stride=(2, 2), padding=(1, 1))\n",
       "      (bn1): BatchNorm2d(256, eps=1e-05, momentum=0.1, affine=True, track_running_stats=True)\n",
       "      (gelu): GELU(approximate='none')\n",
       "      (relu): ReLU()\n",
       "      (conv2): Conv2d(256, 256, kernel_size=(3, 3), stride=(1, 1), padding=(1, 1))\n",
       "      (bn2): BatchNorm2d(256, eps=1e-05, momentum=0.1, affine=True, track_running_stats=True)\n",
       "      (skip): Sequential(\n",
       "        (0): Conv2d(152, 256, kernel_size=(1, 1), stride=(2, 2))\n",
       "        (1): BatchNorm2d(256, eps=1e-05, momentum=0.1, affine=True, track_running_stats=True)\n",
       "      )\n",
       "    )\n",
       "    (1): ResidualBlock(\n",
       "      (conv1): Conv2d(256, 256, kernel_size=(3, 3), stride=(1, 1), padding=(1, 1))\n",
       "      (bn1): BatchNorm2d(256, eps=1e-05, momentum=0.1, affine=True, track_running_stats=True)\n",
       "      (gelu): GELU(approximate='none')\n",
       "      (relu): ReLU()\n",
       "      (conv2): Conv2d(256, 256, kernel_size=(3, 3), stride=(1, 1), padding=(1, 1))\n",
       "      (bn2): BatchNorm2d(256, eps=1e-05, momentum=0.1, affine=True, track_running_stats=True)\n",
       "      (skip): Sequential()\n",
       "    )\n",
       "  )\n",
       "  (avg_pool): AdaptiveAvgPool2d(output_size=(1, 1))\n",
       "  (fc): Linear(in_features=256, out_features=10, bias=True)\n",
       ")"
      ]
     },
     "execution_count": 13,
     "metadata": {},
     "output_type": "execute_result"
    }
   ],
   "source": [
    "device = torch.device(\"cuda\" if torch.cuda.is_available() else \"cpu\")\n",
    "\n",
    "model = ResNetMini(num_classes=10)\n",
    "\n",
    "state_dict = torch.load('/kaggle/working/resnet_mini_cifar10_finetuned_v1.pth', map_location=device)\n",
    "\n",
    "new_state_dict = OrderedDict()\n",
    "for k, v in state_dict.items():\n",
    "    name = k.replace(\"module.\", \"\")\n",
    "    new_state_dict[name] = v\n",
    "\n",
    "model.load_state_dict(new_state_dict)\n",
    "model.to(device)"
   ]
  },
  {
   "cell_type": "code",
   "execution_count": 14,
   "id": "80854ba9",
   "metadata": {
    "execution": {
     "iopub.execute_input": "2025-03-14T03:20:33.448858Z",
     "iopub.status.busy": "2025-03-14T03:20:33.448521Z",
     "iopub.status.idle": "2025-03-14T03:20:38.683098Z",
     "shell.execute_reply": "2025-03-14T03:20:38.682109Z"
    },
    "papermill": {
     "duration": 9.103269,
     "end_time": "2025-03-14T03:20:38.684441",
     "exception": false,
     "start_time": "2025-03-14T03:20:29.581172",
     "status": "completed"
    },
    "tags": []
   },
   "outputs": [
    {
     "name": "stderr",
     "output_type": "stream",
     "text": [
      "100%|██████████| 79/79 [00:05<00:00, 15.25it/s]\n"
     ]
    }
   ],
   "source": [
    "predictions = []\n",
    "image_ids = []\n",
    "\n",
    "model.eval()\n",
    "with torch.no_grad():\n",
    "    for images, ids in tqdm(test_loader):\n",
    "        images = images.to(device)\n",
    "        outputs = model(images)\n",
    "        _, preds = outputs.max(1)\n",
    "\n",
    "        predictions.extend(preds.cpu().numpy())\n",
    "        image_ids.extend(ids.numpy())\n",
    "\n",
    "submission_df = pd.DataFrame({'ID': image_ids, 'Labels': predictions})\n",
    "submission_df.to_csv('submission.csv', index=False)"
   ]
  },
  {
   "cell_type": "code",
   "execution_count": 15,
   "id": "ce27a594",
   "metadata": {
    "execution": {
     "iopub.execute_input": "2025-03-14T03:20:46.828980Z",
     "iopub.status.busy": "2025-03-14T03:20:46.828627Z",
     "iopub.status.idle": "2025-03-14T03:20:46.873458Z",
     "shell.execute_reply": "2025-03-14T03:20:46.872506Z"
    },
    "papermill": {
     "duration": 4.217864,
     "end_time": "2025-03-14T03:20:46.874676",
     "exception": false,
     "start_time": "2025-03-14T03:20:42.656812",
     "status": "completed"
    },
    "tags": []
   },
   "outputs": [
    {
     "name": "stdout",
     "output_type": "stream",
     "text": [
      "Submission file saved as submission.csv\n"
     ]
    }
   ],
   "source": [
    "submission_df = pd.DataFrame({\n",
    "    'ID': image_ids,\n",
    "    'Labels': predictions\n",
    "})\n",
    "\n",
    "submission_df.to_csv('submission.csv', index=False)\n",
    "print(\"Submission file saved as submission.csv\")"
   ]
  },
  {
   "cell_type": "markdown",
   "id": "4c214cca",
   "metadata": {
    "papermill": {
     "duration": 3.962819,
     "end_time": "2025-03-14T03:20:54.688664",
     "exception": false,
     "start_time": "2025-03-14T03:20:50.725845",
     "status": "completed"
    },
    "tags": []
   },
   "source": [
    "# Visual Inspection"
   ]
  },
  {
   "cell_type": "code",
   "execution_count": 16,
   "id": "2d3b1e12",
   "metadata": {
    "execution": {
     "iopub.execute_input": "2025-03-14T03:21:02.651671Z",
     "iopub.status.busy": "2025-03-14T03:21:02.651366Z",
     "iopub.status.idle": "2025-03-14T03:21:02.682620Z",
     "shell.execute_reply": "2025-03-14T03:21:02.681951Z"
    },
    "papermill": {
     "duration": 3.889951,
     "end_time": "2025-03-14T03:21:02.683925",
     "exception": false,
     "start_time": "2025-03-14T03:20:58.793974",
     "status": "completed"
    },
    "tags": []
   },
   "outputs": [],
   "source": [
    "from mpl_toolkits.axes_grid1 import ImageGrid"
   ]
  },
  {
   "cell_type": "code",
   "execution_count": 17,
   "id": "3be228e2",
   "metadata": {
    "execution": {
     "iopub.execute_input": "2025-03-14T03:21:10.804737Z",
     "iopub.status.busy": "2025-03-14T03:21:10.804436Z",
     "iopub.status.idle": "2025-03-14T03:21:16.110140Z",
     "shell.execute_reply": "2025-03-14T03:21:16.109247Z"
    },
    "papermill": {
     "duration": 9.435345,
     "end_time": "2025-03-14T03:21:16.111951",
     "exception": false,
     "start_time": "2025-03-14T03:21:06.676606",
     "status": "completed"
    },
    "tags": []
   },
   "outputs": [
    {
     "name": "stderr",
     "output_type": "stream",
     "text": [
      "<ipython-input-17-938fcdba6366>:33: UserWarning: This figure includes Axes that are not compatible with tight_layout, so results might be incorrect.\n",
      "  plt.tight_layout()\n"
     ]
    },
    {
     "data": {
      "image/png": "[encoded data removed]",
      "text/plain": [
       "<Figure size 1200x1200 with 50 Axes>"
      ]
     },
     "metadata": {},
     "output_type": "display_data"
    }
   ],
   "source": [
    "# Class labels mapping\n",
    "class_names = {\n",
    "    0: 'Airplane',\n",
    "    1: 'Automobile',\n",
    "    2: 'Bird',\n",
    "    3: 'Cat',\n",
    "    4: 'Deer',\n",
    "    5: 'Dog',\n",
    "    6: 'Frog',\n",
    "    7: 'Horse',\n",
    "    8: 'Ship',\n",
    "    9: 'Truck'\n",
    "}\n",
    "\n",
    "\n",
    "selected_images = test_images[:25]  \n",
    "selected_ids = test_ids[:25]          \n",
    "selected_preds = predictions[:25]     \n",
    "\n",
    "# Create image grid layout\n",
    "fig = plt.figure(figsize=(12, 12))\n",
    "grid = ImageGrid(fig, 111, \n",
    "                nrows_ncols=(5, 5),   # 5x5 grid for 25 samples\n",
    "                axes_pad=0.5)         \n",
    "\n",
    "# Plot each image with prediction overlay\n",
    "for ax, img, pred in zip(grid.axes_all, selected_images, selected_preds):\n",
    "    ax.imshow(img)  \n",
    "    ax.set_title(f\"Prediction: {class_names[pred]}\", fontsize=9)\n",
    "    ax.axis('off') \n",
    "    \n",
    "\n",
    "plt.tight_layout()\n",
    "plt.savefig(\"predictions_grid.png\", dpi=300, bbox_inches='tight')  \n",
    "plt.show()\n"
   ]
  },
  {
   "cell_type": "code",
   "execution_count": null,
   "id": "ec537943",
   "metadata": {
    "papermill": {
     "duration": 3.986406,
     "end_time": "2025-03-14T03:21:24.054262",
     "exception": false,
     "start_time": "2025-03-14T03:21:20.067856",
     "status": "completed"
    },
    "tags": []
   },
   "outputs": [],
   "source": []
  }
 ],
 "metadata": {
  "kaggle": {
   "accelerator": "gpu",
   "dataSources": [
    {
     "databundleVersionId": 11145869,
     "isSourceIdPinned": false,
     "sourceId": 93057,
     "sourceType": "competition"
    },
    {
     "datasetId": 6814607,
     "sourceId": 10954433,
     "sourceType": "datasetVersion"
    }
   ],
   "isGpuEnabled": true,
   "isInternetEnabled": true,
   "language": "python",
   "sourceType": "notebook"
  },
  "kernelspec": {
   "display_name": "Python 3",
   "language": "python",
   "name": "python3"
  },
  "language_info": {
   "codemirror_mode": {
    "name": "ipython",
    "version": 3
   },
   "file_extension": ".py",
   "mimetype": "text/x-python",
   "name": "python",
   "nbconvert_exporter": "python",
   "pygments_lexer": "ipython3",
   "version": "3.10.12"
  },
  "papermill": {
   "default_parameters": {},
   "duration": 4711.197629,
   "end_time": "2025-03-14T03:21:30.589977",
   "environment_variables": {},
   "exception": null,
   "input_path": "__notebook__.ipynb",
   "output_path": "__notebook__.ipynb",
   "parameters": {},
   "start_time": "2025-03-14T02:02:59.392348",
   "version": "2.6.0"
  }
 },
 "nbformat": 4,
 "nbformat_minor": 5
}
